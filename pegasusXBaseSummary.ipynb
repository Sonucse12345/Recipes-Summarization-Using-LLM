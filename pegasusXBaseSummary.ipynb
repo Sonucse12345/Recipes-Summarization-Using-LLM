{
 "cells": [
  {
   "cell_type": "code",
   "execution_count": 1,
   "metadata": {
    "execution": {
     "iopub.execute_input": "2024-11-22T07:47:00.437134Z",
     "iopub.status.busy": "2024-11-22T07:47:00.436727Z",
     "iopub.status.idle": "2024-11-22T07:47:01.726279Z",
     "shell.execute_reply": "2024-11-22T07:47:01.724953Z",
     "shell.execute_reply.started": "2024-11-22T07:47:00.437098Z"
    },
    "trusted": true
   },
   "outputs": [
    {
     "name": "stdout",
     "output_type": "stream",
     "text": [
      "Fri Nov 22 07:47:01 2024       \n",
      "+-----------------------------------------------------------------------------------------+\n",
      "| NVIDIA-SMI 560.35.03              Driver Version: 560.35.03      CUDA Version: 12.6     |\n",
      "|-----------------------------------------+------------------------+----------------------+\n",
      "| GPU  Name                 Persistence-M | Bus-Id          Disp.A | Volatile Uncorr. ECC |\n",
      "| Fan  Temp   Perf          Pwr:Usage/Cap |           Memory-Usage | GPU-Util  Compute M. |\n",
      "|                                         |                        |               MIG M. |\n",
      "|=========================================+========================+======================|\n",
      "|   0  Tesla P100-PCIE-16GB           Off |   00000000:00:04.0 Off |                    0 |\n",
      "| N/A   40C    P0             26W /  250W |       0MiB /  16384MiB |      0%      Default |\n",
      "|                                         |                        |                  N/A |\n",
      "+-----------------------------------------+------------------------+----------------------+\n",
      "                                                                                         \n",
      "+-----------------------------------------------------------------------------------------+\n",
      "| Processes:                                                                              |\n",
      "|  GPU   GI   CI        PID   Type   Process name                              GPU Memory |\n",
      "|        ID   ID                                                               Usage      |\n",
      "|=========================================================================================|\n",
      "|  No running processes found                                                             |\n",
      "+-----------------------------------------------------------------------------------------+\n"
     ]
    }
   ],
   "source": [
    "!nvidia-smi # Checking GPU"
   ]
  },
  {
   "cell_type": "code",
   "execution_count": 2,
   "metadata": {
    "execution": {
     "iopub.execute_input": "2024-11-22T07:47:01.729043Z",
     "iopub.status.busy": "2024-11-22T07:47:01.728706Z",
     "iopub.status.idle": "2024-11-22T07:47:12.789815Z",
     "shell.execute_reply": "2024-11-22T07:47:12.788723Z",
     "shell.execute_reply.started": "2024-11-22T07:47:01.729010Z"
    },
    "trusted": true
   },
   "outputs": [
    {
     "name": "stdout",
     "output_type": "stream",
     "text": [
      "Requirement already satisfied: transformers in /opt/conda/lib/python3.10/site-packages (4.45.1)\n",
      "Requirement already satisfied: filelock in /opt/conda/lib/python3.10/site-packages (from transformers) (3.15.1)\n",
      "Requirement already satisfied: huggingface-hub<1.0,>=0.23.2 in /opt/conda/lib/python3.10/site-packages (from transformers) (0.25.1)\n",
      "Requirement already satisfied: numpy>=1.17 in /opt/conda/lib/python3.10/site-packages (from transformers) (1.26.4)\n",
      "Requirement already satisfied: packaging>=20.0 in /opt/conda/lib/python3.10/site-packages (from transformers) (21.3)\n",
      "Requirement already satisfied: pyyaml>=5.1 in /opt/conda/lib/python3.10/site-packages (from transformers) (6.0.2)\n",
      "Requirement already satisfied: regex!=2019.12.17 in /opt/conda/lib/python3.10/site-packages (from transformers) (2024.5.15)\n",
      "Requirement already satisfied: requests in /opt/conda/lib/python3.10/site-packages (from transformers) (2.32.3)\n",
      "Requirement already satisfied: safetensors>=0.4.1 in /opt/conda/lib/python3.10/site-packages (from transformers) (0.4.5)\n",
      "Requirement already satisfied: tokenizers<0.21,>=0.20 in /opt/conda/lib/python3.10/site-packages (from transformers) (0.20.0)\n",
      "Requirement already satisfied: tqdm>=4.27 in /opt/conda/lib/python3.10/site-packages (from transformers) (4.66.4)\n",
      "Requirement already satisfied: fsspec>=2023.5.0 in /opt/conda/lib/python3.10/site-packages (from huggingface-hub<1.0,>=0.23.2->transformers) (2024.6.1)\n",
      "Requirement already satisfied: typing-extensions>=3.7.4.3 in /opt/conda/lib/python3.10/site-packages (from huggingface-hub<1.0,>=0.23.2->transformers) (4.12.2)\n",
      "Requirement already satisfied: pyparsing!=3.0.5,>=2.0.2 in /opt/conda/lib/python3.10/site-packages (from packaging>=20.0->transformers) (3.1.2)\n",
      "Requirement already satisfied: charset-normalizer<4,>=2 in /opt/conda/lib/python3.10/site-packages (from requests->transformers) (3.3.2)\n",
      "Requirement already satisfied: idna<4,>=2.5 in /opt/conda/lib/python3.10/site-packages (from requests->transformers) (3.7)\n",
      "Requirement already satisfied: urllib3<3,>=1.21.1 in /opt/conda/lib/python3.10/site-packages (from requests->transformers) (1.26.18)\n",
      "Requirement already satisfied: certifi>=2017.4.17 in /opt/conda/lib/python3.10/site-packages (from requests->transformers) (2024.8.30)\n"
     ]
    }
   ],
   "source": [
    "!pip install transformers # Installing the transformers library (https://huggingface.co/docs/transformers/index)\n"
   ]
  },
  {
   "cell_type": "code",
   "execution_count": 3,
   "metadata": {
    "execution": {
     "iopub.execute_input": "2024-11-22T07:47:12.792070Z",
     "iopub.status.busy": "2024-11-22T07:47:12.791608Z",
     "iopub.status.idle": "2024-11-22T07:47:23.114155Z",
     "shell.execute_reply": "2024-11-22T07:47:23.113214Z",
     "shell.execute_reply.started": "2024-11-22T07:47:12.792021Z"
    },
    "trusted": true
   },
   "outputs": [
    {
     "name": "stdout",
     "output_type": "stream",
     "text": [
      "Collecting evaluate\n",
      "  Downloading evaluate-0.4.3-py3-none-any.whl.metadata (9.2 kB)\n",
      "Requirement already satisfied: datasets>=2.0.0 in /opt/conda/lib/python3.10/site-packages (from evaluate) (3.0.1)\n",
      "Requirement already satisfied: numpy>=1.17 in /opt/conda/lib/python3.10/site-packages (from evaluate) (1.26.4)\n",
      "Requirement already satisfied: dill in /opt/conda/lib/python3.10/site-packages (from evaluate) (0.3.8)\n",
      "Requirement already satisfied: pandas in /opt/conda/lib/python3.10/site-packages (from evaluate) (2.2.2)\n",
      "Requirement already satisfied: requests>=2.19.0 in /opt/conda/lib/python3.10/site-packages (from evaluate) (2.32.3)\n",
      "Requirement already satisfied: tqdm>=4.62.1 in /opt/conda/lib/python3.10/site-packages (from evaluate) (4.66.4)\n",
      "Requirement already satisfied: xxhash in /opt/conda/lib/python3.10/site-packages (from evaluate) (3.4.1)\n",
      "Requirement already satisfied: multiprocess in /opt/conda/lib/python3.10/site-packages (from evaluate) (0.70.16)\n",
      "Requirement already satisfied: fsspec>=2021.05.0 in /opt/conda/lib/python3.10/site-packages (from fsspec[http]>=2021.05.0->evaluate) (2024.6.1)\n",
      "Requirement already satisfied: huggingface-hub>=0.7.0 in /opt/conda/lib/python3.10/site-packages (from evaluate) (0.25.1)\n",
      "Requirement already satisfied: packaging in /opt/conda/lib/python3.10/site-packages (from evaluate) (21.3)\n",
      "Requirement already satisfied: filelock in /opt/conda/lib/python3.10/site-packages (from datasets>=2.0.0->evaluate) (3.15.1)\n",
      "Requirement already satisfied: pyarrow>=15.0.0 in /opt/conda/lib/python3.10/site-packages (from datasets>=2.0.0->evaluate) (16.1.0)\n",
      "Requirement already satisfied: aiohttp in /opt/conda/lib/python3.10/site-packages (from datasets>=2.0.0->evaluate) (3.9.5)\n",
      "Requirement already satisfied: pyyaml>=5.1 in /opt/conda/lib/python3.10/site-packages (from datasets>=2.0.0->evaluate) (6.0.2)\n",
      "Requirement already satisfied: typing-extensions>=3.7.4.3 in /opt/conda/lib/python3.10/site-packages (from huggingface-hub>=0.7.0->evaluate) (4.12.2)\n",
      "Requirement already satisfied: pyparsing!=3.0.5,>=2.0.2 in /opt/conda/lib/python3.10/site-packages (from packaging->evaluate) (3.1.2)\n",
      "Requirement already satisfied: charset-normalizer<4,>=2 in /opt/conda/lib/python3.10/site-packages (from requests>=2.19.0->evaluate) (3.3.2)\n",
      "Requirement already satisfied: idna<4,>=2.5 in /opt/conda/lib/python3.10/site-packages (from requests>=2.19.0->evaluate) (3.7)\n",
      "Requirement already satisfied: urllib3<3,>=1.21.1 in /opt/conda/lib/python3.10/site-packages (from requests>=2.19.0->evaluate) (1.26.18)\n",
      "Requirement already satisfied: certifi>=2017.4.17 in /opt/conda/lib/python3.10/site-packages (from requests>=2.19.0->evaluate) (2024.8.30)\n",
      "Requirement already satisfied: python-dateutil>=2.8.2 in /opt/conda/lib/python3.10/site-packages (from pandas->evaluate) (2.9.0.post0)\n",
      "Requirement already satisfied: pytz>=2020.1 in /opt/conda/lib/python3.10/site-packages (from pandas->evaluate) (2024.1)\n",
      "Requirement already satisfied: tzdata>=2022.7 in /opt/conda/lib/python3.10/site-packages (from pandas->evaluate) (2024.1)\n",
      "Requirement already satisfied: aiosignal>=1.1.2 in /opt/conda/lib/python3.10/site-packages (from aiohttp->datasets>=2.0.0->evaluate) (1.3.1)\n",
      "Requirement already satisfied: attrs>=17.3.0 in /opt/conda/lib/python3.10/site-packages (from aiohttp->datasets>=2.0.0->evaluate) (23.2.0)\n",
      "Requirement already satisfied: frozenlist>=1.1.1 in /opt/conda/lib/python3.10/site-packages (from aiohttp->datasets>=2.0.0->evaluate) (1.4.1)\n",
      "Requirement already satisfied: multidict<7.0,>=4.5 in /opt/conda/lib/python3.10/site-packages (from aiohttp->datasets>=2.0.0->evaluate) (6.0.5)\n",
      "Requirement already satisfied: yarl<2.0,>=1.0 in /opt/conda/lib/python3.10/site-packages (from aiohttp->datasets>=2.0.0->evaluate) (1.9.4)\n",
      "Requirement already satisfied: async-timeout<5.0,>=4.0 in /opt/conda/lib/python3.10/site-packages (from aiohttp->datasets>=2.0.0->evaluate) (4.0.3)\n",
      "Requirement already satisfied: six>=1.5 in /opt/conda/lib/python3.10/site-packages (from python-dateutil>=2.8.2->pandas->evaluate) (1.16.0)\n",
      "Downloading evaluate-0.4.3-py3-none-any.whl (84 kB)\n",
      "\u001b[2K   \u001b[90m━━━━━━━━━━━━━━━━━━━━━━━━━━━━━━━━━━━━━━━━\u001b[0m \u001b[32m84.0/84.0 kB\u001b[0m \u001b[31m2.4 MB/s\u001b[0m eta \u001b[36m0:00:00\u001b[0m\n",
      "\u001b[?25hInstalling collected packages: evaluate\n",
      "Successfully installed evaluate-0.4.3\n"
     ]
    }
   ],
   "source": [
    "!pip install evaluate # Installing the evaluate library (https://huggingface.co/docs/evaluate/main/en/index)\n"
   ]
  },
  {
   "cell_type": "code",
   "execution_count": 4,
   "metadata": {
    "execution": {
     "iopub.execute_input": "2024-11-22T07:47:23.117204Z",
     "iopub.status.busy": "2024-11-22T07:47:23.116849Z",
     "iopub.status.idle": "2024-11-22T07:47:35.545326Z",
     "shell.execute_reply": "2024-11-22T07:47:35.544123Z",
     "shell.execute_reply.started": "2024-11-22T07:47:23.117170Z"
    },
    "trusted": true
   },
   "outputs": [
    {
     "name": "stdout",
     "output_type": "stream",
     "text": [
      "Collecting rouge-score\n",
      "  Downloading rouge_score-0.1.2.tar.gz (17 kB)\n",
      "  Preparing metadata (setup.py) ... \u001b[?25ldone\n",
      "\u001b[?25hRequirement already satisfied: absl-py in /opt/conda/lib/python3.10/site-packages (from rouge-score) (1.4.0)\n",
      "Requirement already satisfied: nltk in /opt/conda/lib/python3.10/site-packages (from rouge-score) (3.2.4)\n",
      "Requirement already satisfied: numpy in /opt/conda/lib/python3.10/site-packages (from rouge-score) (1.26.4)\n",
      "Requirement already satisfied: six>=1.14.0 in /opt/conda/lib/python3.10/site-packages (from rouge-score) (1.16.0)\n",
      "Building wheels for collected packages: rouge-score\n",
      "  Building wheel for rouge-score (setup.py) ... \u001b[?25ldone\n",
      "\u001b[?25h  Created wheel for rouge-score: filename=rouge_score-0.1.2-py3-none-any.whl size=24934 sha256=914def14499417d598f78ffd1041d66a5ad327e1d4d340e1e12abb114a1fff95\n",
      "  Stored in directory: /root/.cache/pip/wheels/5f/dd/89/461065a73be61a532ff8599a28e9beef17985c9e9c31e541b4\n",
      "Successfully built rouge-score\n",
      "Installing collected packages: rouge-score\n",
      "Successfully installed rouge-score-0.1.2\n"
     ]
    }
   ],
   "source": [
    "!pip install rouge-score # Installing rouge-score library (https://pypi.org/project/rouge-score/)\n"
   ]
  },
  {
   "cell_type": "code",
   "execution_count": 5,
   "metadata": {
    "execution": {
     "iopub.execute_input": "2024-11-22T07:47:35.547651Z",
     "iopub.status.busy": "2024-11-22T07:47:35.547151Z",
     "iopub.status.idle": "2024-11-22T07:47:48.187242Z",
     "shell.execute_reply": "2024-11-22T07:47:48.186177Z",
     "shell.execute_reply.started": "2024-11-22T07:47:35.547602Z"
    },
    "trusted": true
   },
   "outputs": [
    {
     "name": "stdout",
     "output_type": "stream",
     "text": [
      "Collecting py7zr\n",
      "  Downloading py7zr-0.22.0-py3-none-any.whl.metadata (16 kB)\n",
      "Requirement already satisfied: texttable in /opt/conda/lib/python3.10/site-packages (from py7zr) (1.7.0)\n",
      "Collecting pycryptodomex>=3.16.0 (from py7zr)\n",
      "  Downloading pycryptodomex-3.21.0-cp36-abi3-manylinux_2_17_x86_64.manylinux2014_x86_64.whl.metadata (3.4 kB)\n",
      "Collecting pyzstd>=0.15.9 (from py7zr)\n",
      "  Downloading pyzstd-0.16.2-cp310-cp310-manylinux_2_17_x86_64.manylinux2014_x86_64.whl.metadata (2.4 kB)\n",
      "Collecting pyppmd<1.2.0,>=1.1.0 (from py7zr)\n",
      "  Downloading pyppmd-1.1.0-cp310-cp310-manylinux_2_17_x86_64.manylinux2014_x86_64.whl.metadata (5.7 kB)\n",
      "Collecting pybcj<1.1.0,>=1.0.0 (from py7zr)\n",
      "  Downloading pybcj-1.0.2-cp310-cp310-manylinux_2_17_x86_64.manylinux2014_x86_64.whl.metadata (4.0 kB)\n",
      "Collecting multivolumefile>=0.2.3 (from py7zr)\n",
      "  Downloading multivolumefile-0.2.3-py3-none-any.whl.metadata (6.3 kB)\n",
      "Collecting inflate64<1.1.0,>=1.0.0 (from py7zr)\n",
      "  Downloading inflate64-1.0.0-cp310-cp310-manylinux_2_17_x86_64.manylinux2014_x86_64.whl.metadata (4.0 kB)\n",
      "Requirement already satisfied: brotli>=1.1.0 in /opt/conda/lib/python3.10/site-packages (from py7zr) (1.1.0)\n",
      "Requirement already satisfied: psutil in /opt/conda/lib/python3.10/site-packages (from py7zr) (5.9.3)\n",
      "Downloading py7zr-0.22.0-py3-none-any.whl (67 kB)\n",
      "\u001b[2K   \u001b[90m━━━━━━━━━━━━━━━━━━━━━━━━━━━━━━━━━━━━━━━━\u001b[0m \u001b[32m67.9/67.9 kB\u001b[0m \u001b[31m1.9 MB/s\u001b[0m eta \u001b[36m0:00:00\u001b[0m\n",
      "\u001b[?25hDownloading inflate64-1.0.0-cp310-cp310-manylinux_2_17_x86_64.manylinux2014_x86_64.whl (93 kB)\n",
      "\u001b[2K   \u001b[90m━━━━━━━━━━━━━━━━━━━━━━━━━━━━━━━━━━━━━━━━\u001b[0m \u001b[32m93.1/93.1 kB\u001b[0m \u001b[31m4.5 MB/s\u001b[0m eta \u001b[36m0:00:00\u001b[0m\n",
      "\u001b[?25hDownloading multivolumefile-0.2.3-py3-none-any.whl (17 kB)\n",
      "Downloading pybcj-1.0.2-cp310-cp310-manylinux_2_17_x86_64.manylinux2014_x86_64.whl (49 kB)\n",
      "\u001b[2K   \u001b[90m━━━━━━━━━━━━━━━━━━━━━━━━━━━━━━━━━━━━━━━━\u001b[0m \u001b[32m49.7/49.7 kB\u001b[0m \u001b[31m2.8 MB/s\u001b[0m eta \u001b[36m0:00:00\u001b[0m\n",
      "\u001b[?25hDownloading pycryptodomex-3.21.0-cp36-abi3-manylinux_2_17_x86_64.manylinux2014_x86_64.whl (2.3 MB)\n",
      "\u001b[2K   \u001b[90m━━━━━━━━━━━━━━━━━━━━━━━━━━━━━━━━━━━━━━━━\u001b[0m \u001b[32m2.3/2.3 MB\u001b[0m \u001b[31m33.6 MB/s\u001b[0m eta \u001b[36m0:00:00\u001b[0ma \u001b[36m0:00:01\u001b[0m\n",
      "\u001b[?25hDownloading pyppmd-1.1.0-cp310-cp310-manylinux_2_17_x86_64.manylinux2014_x86_64.whl (138 kB)\n",
      "\u001b[2K   \u001b[90m━━━━━━━━━━━━━━━━━━━━━━━━━━━━━━━━━━━━━━━━\u001b[0m \u001b[32m138.9/138.9 kB\u001b[0m \u001b[31m8.0 MB/s\u001b[0m eta \u001b[36m0:00:00\u001b[0m\n",
      "\u001b[?25hDownloading pyzstd-0.16.2-cp310-cp310-manylinux_2_17_x86_64.manylinux2014_x86_64.whl (413 kB)\n",
      "\u001b[2K   \u001b[90m━━━━━━━━━━━━━━━━━━━━━━━━━━━━━━━━━━━━━━━━\u001b[0m \u001b[32m413.7/413.7 kB\u001b[0m \u001b[31m22.2 MB/s\u001b[0m eta \u001b[36m0:00:00\u001b[0m\n",
      "\u001b[?25hInstalling collected packages: pyzstd, pyppmd, pycryptodomex, pybcj, multivolumefile, inflate64, py7zr\n",
      "Successfully installed inflate64-1.0.0 multivolumefile-0.2.3 py7zr-0.22.0 pybcj-1.0.2 pycryptodomex-3.21.0 pyppmd-1.1.0 pyzstd-0.16.2\n"
     ]
    }
   ],
   "source": [
    "!pip install py7zr # Installing library to save zip archives (https://pypi.org/project/py7zr/)\n"
   ]
  },
  {
   "cell_type": "code",
   "execution_count": 6,
   "metadata": {
    "execution": {
     "iopub.execute_input": "2024-11-22T07:47:48.189066Z",
     "iopub.status.busy": "2024-11-22T07:47:48.188775Z",
     "iopub.status.idle": "2024-11-22T07:47:58.401300Z",
     "shell.execute_reply": "2024-11-22T07:47:58.400009Z",
     "shell.execute_reply.started": "2024-11-22T07:47:48.189038Z"
    },
    "trusted": true
   },
   "outputs": [
    {
     "name": "stdout",
     "output_type": "stream",
     "text": [
      "Requirement already satisfied: plotly in /opt/conda/lib/python3.10/site-packages (5.22.0)\n",
      "Requirement already satisfied: tenacity>=6.2.0 in /opt/conda/lib/python3.10/site-packages (from plotly) (8.3.0)\n",
      "Requirement already satisfied: packaging in /opt/conda/lib/python3.10/site-packages (from plotly) (21.3)\n",
      "Requirement already satisfied: pyparsing!=3.0.5,>=2.0.2 in /opt/conda/lib/python3.10/site-packages (from packaging->plotly) (3.1.2)\n"
     ]
    }
   ],
   "source": [
    "!pip install plotly\n"
   ]
  },
  {
   "cell_type": "code",
   "execution_count": 7,
   "metadata": {
    "execution": {
     "iopub.execute_input": "2024-11-22T07:47:58.403347Z",
     "iopub.status.busy": "2024-11-22T07:47:58.402982Z",
     "iopub.status.idle": "2024-11-22T07:48:08.600798Z",
     "shell.execute_reply": "2024-11-22T07:48:08.599633Z",
     "shell.execute_reply.started": "2024-11-22T07:47:58.403310Z"
    },
    "trusted": true
   },
   "outputs": [
    {
     "name": "stdout",
     "output_type": "stream",
     "text": [
      "Requirement already satisfied: statsmodels in /opt/conda/lib/python3.10/site-packages (0.14.2)\n",
      "Requirement already satisfied: numpy>=1.22.3 in /opt/conda/lib/python3.10/site-packages (from statsmodels) (1.26.4)\n",
      "Requirement already satisfied: scipy!=1.9.2,>=1.8 in /opt/conda/lib/python3.10/site-packages (from statsmodels) (1.14.1)\n",
      "Requirement already satisfied: pandas!=2.1.0,>=1.4 in /opt/conda/lib/python3.10/site-packages (from statsmodels) (2.2.2)\n",
      "Requirement already satisfied: patsy>=0.5.6 in /opt/conda/lib/python3.10/site-packages (from statsmodels) (0.5.6)\n",
      "Requirement already satisfied: packaging>=21.3 in /opt/conda/lib/python3.10/site-packages (from statsmodels) (21.3)\n",
      "Requirement already satisfied: pyparsing!=3.0.5,>=2.0.2 in /opt/conda/lib/python3.10/site-packages (from packaging>=21.3->statsmodels) (3.1.2)\n",
      "Requirement already satisfied: python-dateutil>=2.8.2 in /opt/conda/lib/python3.10/site-packages (from pandas!=2.1.0,>=1.4->statsmodels) (2.9.0.post0)\n",
      "Requirement already satisfied: pytz>=2020.1 in /opt/conda/lib/python3.10/site-packages (from pandas!=2.1.0,>=1.4->statsmodels) (2024.1)\n",
      "Requirement already satisfied: tzdata>=2022.7 in /opt/conda/lib/python3.10/site-packages (from pandas!=2.1.0,>=1.4->statsmodels) (2024.1)\n",
      "Requirement already satisfied: six in /opt/conda/lib/python3.10/site-packages (from patsy>=0.5.6->statsmodels) (1.16.0)\n"
     ]
    }
   ],
   "source": [
    "!pip install statsmodels\n"
   ]
  },
  {
   "cell_type": "code",
   "execution_count": 8,
   "metadata": {
    "execution": {
     "iopub.execute_input": "2024-11-22T07:48:08.602832Z",
     "iopub.status.busy": "2024-11-22T07:48:08.602464Z",
     "iopub.status.idle": "2024-11-22T07:48:21.066821Z",
     "shell.execute_reply": "2024-11-22T07:48:21.065728Z",
     "shell.execute_reply.started": "2024-11-22T07:48:08.602798Z"
    },
    "trusted": true
   },
   "outputs": [
    {
     "name": "stdout",
     "output_type": "stream",
     "text": [
      "Collecting datasets==2.4.0\n",
      "  Downloading datasets-2.4.0-py3-none-any.whl.metadata (20 kB)\n",
      "Requirement already satisfied: numpy>=1.17 in /opt/conda/lib/python3.10/site-packages (from datasets==2.4.0) (1.26.4)\n",
      "Requirement already satisfied: pyarrow>=6.0.0 in /opt/conda/lib/python3.10/site-packages (from datasets==2.4.0) (16.1.0)\n",
      "Collecting dill<0.3.6 (from datasets==2.4.0)\n",
      "  Downloading dill-0.3.5.1-py2.py3-none-any.whl.metadata (9.7 kB)\n",
      "Requirement already satisfied: pandas in /opt/conda/lib/python3.10/site-packages (from datasets==2.4.0) (2.2.2)\n",
      "Requirement already satisfied: requests>=2.19.0 in /opt/conda/lib/python3.10/site-packages (from datasets==2.4.0) (2.32.3)\n",
      "Requirement already satisfied: tqdm>=4.62.1 in /opt/conda/lib/python3.10/site-packages (from datasets==2.4.0) (4.66.4)\n",
      "Requirement already satisfied: xxhash in /opt/conda/lib/python3.10/site-packages (from datasets==2.4.0) (3.4.1)\n",
      "Requirement already satisfied: multiprocess in /opt/conda/lib/python3.10/site-packages (from datasets==2.4.0) (0.70.16)\n",
      "Requirement already satisfied: fsspec>=2021.11.1 in /opt/conda/lib/python3.10/site-packages (from fsspec[http]>=2021.11.1->datasets==2.4.0) (2024.6.1)\n",
      "Requirement already satisfied: aiohttp in /opt/conda/lib/python3.10/site-packages (from datasets==2.4.0) (3.9.5)\n",
      "Requirement already satisfied: huggingface-hub<1.0.0,>=0.1.0 in /opt/conda/lib/python3.10/site-packages (from datasets==2.4.0) (0.25.1)\n",
      "Requirement already satisfied: packaging in /opt/conda/lib/python3.10/site-packages (from datasets==2.4.0) (21.3)\n",
      "Collecting responses<0.19 (from datasets==2.4.0)\n",
      "  Downloading responses-0.18.0-py3-none-any.whl.metadata (29 kB)\n",
      "Requirement already satisfied: aiosignal>=1.1.2 in /opt/conda/lib/python3.10/site-packages (from aiohttp->datasets==2.4.0) (1.3.1)\n",
      "Requirement already satisfied: attrs>=17.3.0 in /opt/conda/lib/python3.10/site-packages (from aiohttp->datasets==2.4.0) (23.2.0)\n",
      "Requirement already satisfied: frozenlist>=1.1.1 in /opt/conda/lib/python3.10/site-packages (from aiohttp->datasets==2.4.0) (1.4.1)\n",
      "Requirement already satisfied: multidict<7.0,>=4.5 in /opt/conda/lib/python3.10/site-packages (from aiohttp->datasets==2.4.0) (6.0.5)\n",
      "Requirement already satisfied: yarl<2.0,>=1.0 in /opt/conda/lib/python3.10/site-packages (from aiohttp->datasets==2.4.0) (1.9.4)\n",
      "Requirement already satisfied: async-timeout<5.0,>=4.0 in /opt/conda/lib/python3.10/site-packages (from aiohttp->datasets==2.4.0) (4.0.3)\n",
      "Requirement already satisfied: filelock in /opt/conda/lib/python3.10/site-packages (from huggingface-hub<1.0.0,>=0.1.0->datasets==2.4.0) (3.15.1)\n",
      "Requirement already satisfied: pyyaml>=5.1 in /opt/conda/lib/python3.10/site-packages (from huggingface-hub<1.0.0,>=0.1.0->datasets==2.4.0) (6.0.2)\n",
      "Requirement already satisfied: typing-extensions>=3.7.4.3 in /opt/conda/lib/python3.10/site-packages (from huggingface-hub<1.0.0,>=0.1.0->datasets==2.4.0) (4.12.2)\n",
      "Requirement already satisfied: pyparsing!=3.0.5,>=2.0.2 in /opt/conda/lib/python3.10/site-packages (from packaging->datasets==2.4.0) (3.1.2)\n",
      "Requirement already satisfied: charset-normalizer<4,>=2 in /opt/conda/lib/python3.10/site-packages (from requests>=2.19.0->datasets==2.4.0) (3.3.2)\n",
      "Requirement already satisfied: idna<4,>=2.5 in /opt/conda/lib/python3.10/site-packages (from requests>=2.19.0->datasets==2.4.0) (3.7)\n",
      "Requirement already satisfied: urllib3<3,>=1.21.1 in /opt/conda/lib/python3.10/site-packages (from requests>=2.19.0->datasets==2.4.0) (1.26.18)\n",
      "Requirement already satisfied: certifi>=2017.4.17 in /opt/conda/lib/python3.10/site-packages (from requests>=2.19.0->datasets==2.4.0) (2024.8.30)\n",
      "INFO: pip is looking at multiple versions of multiprocess to determine which version is compatible with other requirements. This could take a while.\n",
      "Collecting multiprocess (from datasets==2.4.0)\n",
      "  Downloading multiprocess-0.70.17-py310-none-any.whl.metadata (7.2 kB)\n",
      "  Downloading multiprocess-0.70.15-py310-none-any.whl.metadata (7.2 kB)\n",
      "  Downloading multiprocess-0.70.14-py310-none-any.whl.metadata (6.6 kB)\n",
      "  Downloading multiprocess-0.70.13-py310-none-any.whl.metadata (6.8 kB)\n",
      "Requirement already satisfied: python-dateutil>=2.8.2 in /opt/conda/lib/python3.10/site-packages (from pandas->datasets==2.4.0) (2.9.0.post0)\n",
      "Requirement already satisfied: pytz>=2020.1 in /opt/conda/lib/python3.10/site-packages (from pandas->datasets==2.4.0) (2024.1)\n",
      "Requirement already satisfied: tzdata>=2022.7 in /opt/conda/lib/python3.10/site-packages (from pandas->datasets==2.4.0) (2024.1)\n",
      "Requirement already satisfied: six>=1.5 in /opt/conda/lib/python3.10/site-packages (from python-dateutil>=2.8.2->pandas->datasets==2.4.0) (1.16.0)\n",
      "Downloading datasets-2.4.0-py3-none-any.whl (365 kB)\n",
      "\u001b[2K   \u001b[90m━━━━━━━━━━━━━━━━━━━━━━━━━━━━━━━━━━━━━━━━\u001b[0m \u001b[32m365.7/365.7 kB\u001b[0m \u001b[31m8.3 MB/s\u001b[0m eta \u001b[36m0:00:00\u001b[0m:00:01\u001b[0m\n",
      "\u001b[?25hDownloading dill-0.3.5.1-py2.py3-none-any.whl (95 kB)\n",
      "\u001b[2K   \u001b[90m━━━━━━━━━━━━━━━━━━━━━━━━━━━━━━━━━━━━━━━━\u001b[0m \u001b[32m95.8/95.8 kB\u001b[0m \u001b[31m5.6 MB/s\u001b[0m eta \u001b[36m0:00:00\u001b[0m\n",
      "\u001b[?25hDownloading responses-0.18.0-py3-none-any.whl (38 kB)\n",
      "Downloading multiprocess-0.70.13-py310-none-any.whl (133 kB)\n",
      "\u001b[2K   \u001b[90m━━━━━━━━━━━━━━━━━━━━━━━━━━━━━━━━━━━━━━━━\u001b[0m \u001b[32m133.1/133.1 kB\u001b[0m \u001b[31m6.4 MB/s\u001b[0m eta \u001b[36m0:00:00\u001b[0m\n",
      "\u001b[?25hInstalling collected packages: dill, responses, multiprocess, datasets\n",
      "  Attempting uninstall: dill\n",
      "    Found existing installation: dill 0.3.8\n",
      "    Uninstalling dill-0.3.8:\n",
      "      Successfully uninstalled dill-0.3.8\n",
      "  Attempting uninstall: multiprocess\n",
      "    Found existing installation: multiprocess 0.70.16\n",
      "    Uninstalling multiprocess-0.70.16:\n",
      "      Successfully uninstalled multiprocess-0.70.16\n",
      "  Attempting uninstall: datasets\n",
      "    Found existing installation: datasets 3.0.1\n",
      "    Uninstalling datasets-3.0.1:\n",
      "      Successfully uninstalled datasets-3.0.1\n",
      "\u001b[31mERROR: pip's dependency resolver does not currently take into account all the packages that are installed. This behaviour is the source of the following dependency conflicts.\n",
      "apache-beam 2.46.0 requires cloudpickle~=2.2.1, but you have cloudpickle 3.0.0 which is incompatible.\n",
      "apache-beam 2.46.0 requires dill<0.3.2,>=0.3.1.1, but you have dill 0.3.5.1 which is incompatible.\n",
      "apache-beam 2.46.0 requires numpy<1.25.0,>=1.14.3, but you have numpy 1.26.4 which is incompatible.\n",
      "apache-beam 2.46.0 requires pyarrow<10.0.0,>=3.0.0, but you have pyarrow 16.1.0 which is incompatible.\n",
      "pathos 0.3.3 requires dill>=0.3.9, but you have dill 0.3.5.1 which is incompatible.\n",
      "pathos 0.3.3 requires multiprocess>=0.70.17, but you have multiprocess 0.70.13 which is incompatible.\u001b[0m\u001b[31m\n",
      "\u001b[0mSuccessfully installed datasets-2.4.0 dill-0.3.5.1 multiprocess-0.70.13 responses-0.18.0\n"
     ]
    }
   ],
   "source": [
    "!pip install datasets==2.4.0"
   ]
  },
  {
   "cell_type": "code",
   "execution_count": 9,
   "metadata": {
    "execution": {
     "iopub.execute_input": "2024-11-22T07:48:21.068827Z",
     "iopub.status.busy": "2024-11-22T07:48:21.068428Z",
     "iopub.status.idle": "2024-11-22T07:48:22.604323Z",
     "shell.execute_reply": "2024-11-22T07:48:22.603367Z",
     "shell.execute_reply.started": "2024-11-22T07:48:21.068790Z"
    },
    "trusted": true
   },
   "outputs": [
    {
     "name": "stdout",
     "output_type": "stream",
     "text": [
      "2.4.0\n",
      "/opt/conda/lib/python3.10/site-packages/datasets/__init__.py\n"
     ]
    }
   ],
   "source": [
    "import datasets\n",
    "print(datasets.__version__)\n",
    "print(datasets.__file__)\n"
   ]
  },
  {
   "cell_type": "code",
   "execution_count": 10,
   "metadata": {
    "execution": {
     "iopub.execute_input": "2024-11-22T07:48:22.608028Z",
     "iopub.status.busy": "2024-11-22T07:48:22.607467Z",
     "iopub.status.idle": "2024-11-22T07:48:32.930989Z",
     "shell.execute_reply": "2024-11-22T07:48:32.929593Z",
     "shell.execute_reply.started": "2024-11-22T07:48:22.607993Z"
    },
    "trusted": true
   },
   "outputs": [
    {
     "name": "stdout",
     "output_type": "stream",
     "text": [
      "Requirement already satisfied: datasets in /opt/conda/lib/python3.10/site-packages (2.4.0)\n",
      "Requirement already satisfied: numpy>=1.17 in /opt/conda/lib/python3.10/site-packages (from datasets) (1.26.4)\n",
      "Requirement already satisfied: pyarrow>=6.0.0 in /opt/conda/lib/python3.10/site-packages (from datasets) (16.1.0)\n",
      "Requirement already satisfied: dill<0.3.6 in /opt/conda/lib/python3.10/site-packages (from datasets) (0.3.5.1)\n",
      "Requirement already satisfied: pandas in /opt/conda/lib/python3.10/site-packages (from datasets) (2.2.2)\n",
      "Requirement already satisfied: requests>=2.19.0 in /opt/conda/lib/python3.10/site-packages (from datasets) (2.32.3)\n",
      "Requirement already satisfied: tqdm>=4.62.1 in /opt/conda/lib/python3.10/site-packages (from datasets) (4.66.4)\n",
      "Requirement already satisfied: xxhash in /opt/conda/lib/python3.10/site-packages (from datasets) (3.4.1)\n",
      "Requirement already satisfied: multiprocess in /opt/conda/lib/python3.10/site-packages (from datasets) (0.70.13)\n",
      "Requirement already satisfied: fsspec>=2021.11.1 in /opt/conda/lib/python3.10/site-packages (from fsspec[http]>=2021.11.1->datasets) (2024.6.1)\n",
      "Requirement already satisfied: aiohttp in /opt/conda/lib/python3.10/site-packages (from datasets) (3.9.5)\n",
      "Requirement already satisfied: huggingface-hub<1.0.0,>=0.1.0 in /opt/conda/lib/python3.10/site-packages (from datasets) (0.25.1)\n",
      "Requirement already satisfied: packaging in /opt/conda/lib/python3.10/site-packages (from datasets) (21.3)\n",
      "Requirement already satisfied: responses<0.19 in /opt/conda/lib/python3.10/site-packages (from datasets) (0.18.0)\n",
      "Requirement already satisfied: aiosignal>=1.1.2 in /opt/conda/lib/python3.10/site-packages (from aiohttp->datasets) (1.3.1)\n",
      "Requirement already satisfied: attrs>=17.3.0 in /opt/conda/lib/python3.10/site-packages (from aiohttp->datasets) (23.2.0)\n",
      "Requirement already satisfied: frozenlist>=1.1.1 in /opt/conda/lib/python3.10/site-packages (from aiohttp->datasets) (1.4.1)\n",
      "Requirement already satisfied: multidict<7.0,>=4.5 in /opt/conda/lib/python3.10/site-packages (from aiohttp->datasets) (6.0.5)\n",
      "Requirement already satisfied: yarl<2.0,>=1.0 in /opt/conda/lib/python3.10/site-packages (from aiohttp->datasets) (1.9.4)\n",
      "Requirement already satisfied: async-timeout<5.0,>=4.0 in /opt/conda/lib/python3.10/site-packages (from aiohttp->datasets) (4.0.3)\n",
      "Requirement already satisfied: filelock in /opt/conda/lib/python3.10/site-packages (from huggingface-hub<1.0.0,>=0.1.0->datasets) (3.15.1)\n",
      "Requirement already satisfied: pyyaml>=5.1 in /opt/conda/lib/python3.10/site-packages (from huggingface-hub<1.0.0,>=0.1.0->datasets) (6.0.2)\n",
      "Requirement already satisfied: typing-extensions>=3.7.4.3 in /opt/conda/lib/python3.10/site-packages (from huggingface-hub<1.0.0,>=0.1.0->datasets) (4.12.2)\n",
      "Requirement already satisfied: pyparsing!=3.0.5,>=2.0.2 in /opt/conda/lib/python3.10/site-packages (from packaging->datasets) (3.1.2)\n",
      "Requirement already satisfied: charset-normalizer<4,>=2 in /opt/conda/lib/python3.10/site-packages (from requests>=2.19.0->datasets) (3.3.2)\n",
      "Requirement already satisfied: idna<4,>=2.5 in /opt/conda/lib/python3.10/site-packages (from requests>=2.19.0->datasets) (3.7)\n",
      "Requirement already satisfied: urllib3<3,>=1.21.1 in /opt/conda/lib/python3.10/site-packages (from requests>=2.19.0->datasets) (1.26.18)\n",
      "Requirement already satisfied: certifi>=2017.4.17 in /opt/conda/lib/python3.10/site-packages (from requests>=2.19.0->datasets) (2024.8.30)\n",
      "Requirement already satisfied: python-dateutil>=2.8.2 in /opt/conda/lib/python3.10/site-packages (from pandas->datasets) (2.9.0.post0)\n",
      "Requirement already satisfied: pytz>=2020.1 in /opt/conda/lib/python3.10/site-packages (from pandas->datasets) (2024.1)\n",
      "Requirement already satisfied: tzdata>=2022.7 in /opt/conda/lib/python3.10/site-packages (from pandas->datasets) (2024.1)\n",
      "Requirement already satisfied: six>=1.5 in /opt/conda/lib/python3.10/site-packages (from python-dateutil>=2.8.2->pandas->datasets) (1.16.0)\n"
     ]
    }
   ],
   "source": [
    "!pip install datasets\n"
   ]
  },
  {
   "cell_type": "code",
   "execution_count": 11,
   "metadata": {
    "execution": {
     "iopub.execute_input": "2024-11-22T07:48:32.933400Z",
     "iopub.status.busy": "2024-11-22T07:48:32.932927Z",
     "iopub.status.idle": "2024-11-22T07:48:32.939224Z",
     "shell.execute_reply": "2024-11-22T07:48:32.938116Z",
     "shell.execute_reply.started": "2024-11-22T07:48:32.933350Z"
    },
    "trusted": true
   },
   "outputs": [],
   "source": [
    "from datasets import load_metric"
   ]
  },
  {
   "cell_type": "code",
   "execution_count": 12,
   "metadata": {
    "execution": {
     "iopub.execute_input": "2024-11-22T07:48:32.941097Z",
     "iopub.status.busy": "2024-11-22T07:48:32.940666Z",
     "iopub.status.idle": "2024-11-22T07:48:43.145914Z",
     "shell.execute_reply": "2024-11-22T07:48:43.144550Z",
     "shell.execute_reply.started": "2024-11-22T07:48:32.941051Z"
    },
    "trusted": true
   },
   "outputs": [
    {
     "name": "stdout",
     "output_type": "stream",
     "text": [
      "Requirement already satisfied: datasets in /opt/conda/lib/python3.10/site-packages (2.4.0)\n",
      "Requirement already satisfied: numpy>=1.17 in /opt/conda/lib/python3.10/site-packages (from datasets) (1.26.4)\n",
      "Requirement already satisfied: pyarrow>=6.0.0 in /opt/conda/lib/python3.10/site-packages (from datasets) (16.1.0)\n",
      "Requirement already satisfied: dill<0.3.6 in /opt/conda/lib/python3.10/site-packages (from datasets) (0.3.5.1)\n",
      "Requirement already satisfied: pandas in /opt/conda/lib/python3.10/site-packages (from datasets) (2.2.2)\n",
      "Requirement already satisfied: requests>=2.19.0 in /opt/conda/lib/python3.10/site-packages (from datasets) (2.32.3)\n",
      "Requirement already satisfied: tqdm>=4.62.1 in /opt/conda/lib/python3.10/site-packages (from datasets) (4.66.4)\n",
      "Requirement already satisfied: xxhash in /opt/conda/lib/python3.10/site-packages (from datasets) (3.4.1)\n",
      "Requirement already satisfied: multiprocess in /opt/conda/lib/python3.10/site-packages (from datasets) (0.70.13)\n",
      "Requirement already satisfied: fsspec>=2021.11.1 in /opt/conda/lib/python3.10/site-packages (from fsspec[http]>=2021.11.1->datasets) (2024.6.1)\n",
      "Requirement already satisfied: aiohttp in /opt/conda/lib/python3.10/site-packages (from datasets) (3.9.5)\n",
      "Requirement already satisfied: huggingface-hub<1.0.0,>=0.1.0 in /opt/conda/lib/python3.10/site-packages (from datasets) (0.25.1)\n",
      "Requirement already satisfied: packaging in /opt/conda/lib/python3.10/site-packages (from datasets) (21.3)\n",
      "Requirement already satisfied: responses<0.19 in /opt/conda/lib/python3.10/site-packages (from datasets) (0.18.0)\n",
      "Requirement already satisfied: aiosignal>=1.1.2 in /opt/conda/lib/python3.10/site-packages (from aiohttp->datasets) (1.3.1)\n",
      "Requirement already satisfied: attrs>=17.3.0 in /opt/conda/lib/python3.10/site-packages (from aiohttp->datasets) (23.2.0)\n",
      "Requirement already satisfied: frozenlist>=1.1.1 in /opt/conda/lib/python3.10/site-packages (from aiohttp->datasets) (1.4.1)\n",
      "Requirement already satisfied: multidict<7.0,>=4.5 in /opt/conda/lib/python3.10/site-packages (from aiohttp->datasets) (6.0.5)\n",
      "Requirement already satisfied: yarl<2.0,>=1.0 in /opt/conda/lib/python3.10/site-packages (from aiohttp->datasets) (1.9.4)\n",
      "Requirement already satisfied: async-timeout<5.0,>=4.0 in /opt/conda/lib/python3.10/site-packages (from aiohttp->datasets) (4.0.3)\n",
      "Requirement already satisfied: filelock in /opt/conda/lib/python3.10/site-packages (from huggingface-hub<1.0.0,>=0.1.0->datasets) (3.15.1)\n",
      "Requirement already satisfied: pyyaml>=5.1 in /opt/conda/lib/python3.10/site-packages (from huggingface-hub<1.0.0,>=0.1.0->datasets) (6.0.2)\n",
      "Requirement already satisfied: typing-extensions>=3.7.4.3 in /opt/conda/lib/python3.10/site-packages (from huggingface-hub<1.0.0,>=0.1.0->datasets) (4.12.2)\n",
      "Requirement already satisfied: pyparsing!=3.0.5,>=2.0.2 in /opt/conda/lib/python3.10/site-packages (from packaging->datasets) (3.1.2)\n",
      "Requirement already satisfied: charset-normalizer<4,>=2 in /opt/conda/lib/python3.10/site-packages (from requests>=2.19.0->datasets) (3.3.2)\n",
      "Requirement already satisfied: idna<4,>=2.5 in /opt/conda/lib/python3.10/site-packages (from requests>=2.19.0->datasets) (3.7)\n",
      "Requirement already satisfied: urllib3<3,>=1.21.1 in /opt/conda/lib/python3.10/site-packages (from requests>=2.19.0->datasets) (1.26.18)\n",
      "Requirement already satisfied: certifi>=2017.4.17 in /opt/conda/lib/python3.10/site-packages (from requests>=2.19.0->datasets) (2024.8.30)\n",
      "Requirement already satisfied: python-dateutil>=2.8.2 in /opt/conda/lib/python3.10/site-packages (from pandas->datasets) (2.9.0.post0)\n",
      "Requirement already satisfied: pytz>=2020.1 in /opt/conda/lib/python3.10/site-packages (from pandas->datasets) (2024.1)\n",
      "Requirement already satisfied: tzdata>=2022.7 in /opt/conda/lib/python3.10/site-packages (from pandas->datasets) (2024.1)\n",
      "Requirement already satisfied: six>=1.5 in /opt/conda/lib/python3.10/site-packages (from python-dateutil>=2.8.2->pandas->datasets) (1.16.0)\n"
     ]
    }
   ],
   "source": [
    "!pip install datasets"
   ]
  },
  {
   "cell_type": "code",
   "execution_count": 13,
   "metadata": {
    "execution": {
     "iopub.execute_input": "2024-11-22T07:48:43.148478Z",
     "iopub.status.busy": "2024-11-22T07:48:43.147973Z",
     "iopub.status.idle": "2024-11-22T07:48:46.710102Z",
     "shell.execute_reply": "2024-11-22T07:48:46.709027Z",
     "shell.execute_reply.started": "2024-11-22T07:48:43.148425Z"
    },
    "trusted": true
   },
   "outputs": [
    {
     "data": {
      "text/html": [
       "        <script type=\"text/javascript\">\n",
       "        window.PlotlyConfig = {MathJaxConfig: 'local'};\n",
       "        if (window.MathJax && window.MathJax.Hub && window.MathJax.Hub.Config) {window.MathJax.Hub.Config({SVG: {font: \"STIX-Web\"}});}\n",
       "        if (typeof require !== 'undefined') {\n",
       "        require.undef(\"plotly\");\n",
       "        requirejs.config({\n",
       "            paths: {\n",
       "                'plotly': ['https://cdn.plot.ly/plotly-2.32.0.min']\n",
       "            }\n",
       "        });\n",
       "        require(['plotly'], function(Plotly) {\n",
       "            window._Plotly = Plotly;\n",
       "        });\n",
       "        }\n",
       "        </script>\n",
       "        "
      ]
     },
     "metadata": {},
     "output_type": "display_data"
    }
   ],
   "source": [
    "# Importing Libraries\n",
    "\n",
    "# Data Handling\n",
    "import pandas as pd\n",
    "import numpy as np\n",
    "from datasets import Dataset, load_metric\n",
    "import shutil\n",
    "\n",
    "# Data Visualization\n",
    "import plotly.express as px\n",
    "import plotly.graph_objs as go\n",
    "import plotly.subplots as sp\n",
    "from plotly.subplots import make_subplots\n",
    "import plotly.figure_factory as ff\n",
    "import plotly.io as pio\n",
    "from IPython.display import display\n",
    "from plotly.offline import init_notebook_mode\n",
    "init_notebook_mode(connected=True)\n",
    "\n",
    "# Statistics & Mathematics\n",
    "import scipy.stats as stats\n",
    "import statsmodels.api as sm\n",
    "from scipy.stats import shapiro, skew, anderson, kstest, gaussian_kde,spearmanr\n",
    "import math\n",
    "\n",
    "# Hiding warnings\n",
    "import warnings\n",
    "warnings.filterwarnings(\"ignore\")"
   ]
  },
  {
   "cell_type": "code",
   "execution_count": null,
   "metadata": {
    "trusted": true
   },
   "outputs": [],
   "source": []
  },
  {
   "cell_type": "code",
   "execution_count": 14,
   "metadata": {
    "execution": {
     "iopub.execute_input": "2024-11-22T07:48:46.712285Z",
     "iopub.status.busy": "2024-11-22T07:48:46.711472Z",
     "iopub.status.idle": "2024-11-22T07:49:08.312601Z",
     "shell.execute_reply": "2024-11-22T07:49:08.311579Z",
     "shell.execute_reply.started": "2024-11-22T07:48:46.712237Z"
    },
    "trusted": true
   },
   "outputs": [
    {
     "name": "stdout",
     "output_type": "stream",
     "text": [
      "[nltk_data] Downloading package punkt to /usr/share/nltk_data...\n",
      "[nltk_data]   Package punkt is already up-to-date!\n"
     ]
    },
    {
     "data": {
      "text/plain": [
       "True"
      ]
     },
     "execution_count": 14,
     "metadata": {},
     "output_type": "execute_result"
    }
   ],
   "source": [
    "from transformers import BartTokenizer, BartForConditionalGeneration      # BERT Tokenizer and architecture\n",
    "from transformers import Seq2SeqTrainer, Seq2SeqTrainingArguments         # These will help us to fine-tune our model\n",
    "from transformers import pipeline                                         # Pipeline\n",
    "from transformers import DataCollatorForSeq2Seq                           # DataCollator to batch the data \n",
    "import torch                                                              # PyTorch\n",
    "import evaluate                                                           # Hugging Face's library for model evaluation\n",
    "\n",
    "\n",
    "# Other NLP libraries\n",
    "from textblob import TextBlob                                             # This is going to help us fix spelling mistakes in texts\n",
    "from sklearn.feature_extraction.text import TfidfVectorizer               # This is going to helps identify the most common terms in the corpus\n",
    "import re                                                                 # This library allows us to clean text data\n",
    "import nltk                                                               # Natural Language Toolkit\n",
    "nltk.download('punkt')                                                    # This divides a text into a list of sentences"
   ]
  },
  {
   "cell_type": "code",
   "execution_count": 15,
   "metadata": {
    "execution": {
     "iopub.execute_input": "2024-11-22T07:49:08.315098Z",
     "iopub.status.busy": "2024-11-22T07:49:08.314009Z",
     "iopub.status.idle": "2024-11-22T07:49:08.320402Z",
     "shell.execute_reply": "2024-11-22T07:49:08.318676Z",
     "shell.execute_reply.started": "2024-11-22T07:49:08.315063Z"
    },
    "trusted": true
   },
   "outputs": [],
   "source": [
    "pd.set_option(\"display.max_colwidth\",1000)\n",
    "# 1000 is just a character count limit for displaying text in Pandas DataFrames, not related to the number of tokens."
   ]
  },
  {
   "cell_type": "code",
   "execution_count": 16,
   "metadata": {
    "execution": {
     "iopub.execute_input": "2024-11-22T07:49:08.322409Z",
     "iopub.status.busy": "2024-11-22T07:49:08.322005Z",
     "iopub.status.idle": "2024-11-22T07:49:08.331822Z",
     "shell.execute_reply": "2024-11-22T07:49:08.330775Z",
     "shell.execute_reply.started": "2024-11-22T07:49:08.322365Z"
    },
    "trusted": true
   },
   "outputs": [],
   "source": [
    "speed  = 42\n",
    "colormap = \"cividis\"\n",
    "template = \"plotly_dark\"\n",
    "#create a scatter plot using the cividis colormap for coloring data points and the plotly_dark template for a dark-themed appearance.\n"
   ]
  },
  {
   "cell_type": "code",
   "execution_count": 18,
   "metadata": {
    "execution": {
     "iopub.execute_input": "2024-11-22T07:49:08.386047Z",
     "iopub.status.busy": "2024-11-22T07:49:08.385590Z",
     "iopub.status.idle": "2024-11-22T07:49:08.399720Z",
     "shell.execute_reply": "2024-11-22T07:49:08.398651Z",
     "shell.execute_reply.started": "2024-11-22T07:49:08.386002Z"
    },
    "trusted": true
   },
   "outputs": [],
   "source": [
    "import torch"
   ]
  },
  {
   "cell_type": "code",
   "execution_count": 19,
   "metadata": {
    "execution": {
     "iopub.execute_input": "2024-11-22T07:49:08.401398Z",
     "iopub.status.busy": "2024-11-22T07:49:08.401052Z",
     "iopub.status.idle": "2024-11-22T07:49:08.415251Z",
     "shell.execute_reply": "2024-11-22T07:49:08.414070Z",
     "shell.execute_reply.started": "2024-11-22T07:49:08.401367Z"
    },
    "trusted": true
   },
   "outputs": [
    {
     "name": "stdout",
     "output_type": "stream",
     "text": [
      "gpu is avaliable.  \n",
      " using gpu\n"
     ]
    }
   ],
   "source": [
    "# checking if gpu is avaliable\n",
    "if torch.cuda.is_available():\n",
    "    print(\"gpu is avaliable.  \\n using gpu\")\n",
    "    device = torch.device(\"cuda\")\n",
    "else:\n",
    "    print(\"gpu is not avaliable\")\n",
    "    device = torch.device(\"cpu\")"
   ]
  },
  {
   "cell_type": "code",
   "execution_count": 20,
   "metadata": {
    "execution": {
     "iopub.execute_input": "2024-11-22T07:49:08.416847Z",
     "iopub.status.busy": "2024-11-22T07:49:08.416500Z",
     "iopub.status.idle": "2024-11-22T07:49:08.426215Z",
     "shell.execute_reply": "2024-11-22T07:49:08.425239Z",
     "shell.execute_reply.started": "2024-11-22T07:49:08.416817Z"
    },
    "trusted": true
   },
   "outputs": [],
   "source": [
    "# /kaggle/input/recipies-50-json/Recipies_50.json\n",
    "# /kaggle/input/samsum-dataset-text-summarization/samsum-train.csv\n",
    "# /kaggle/input/samsum-dataset-text-summarization/samsum-test.csv\n",
    "# /kaggle/input/samsum-dataset-text-summarization/samsum-validation.csv"
   ]
  },
  {
   "cell_type": "code",
   "execution_count": 21,
   "metadata": {
    "execution": {
     "iopub.execute_input": "2024-11-22T07:49:08.428014Z",
     "iopub.status.busy": "2024-11-22T07:49:08.427625Z",
     "iopub.status.idle": "2024-11-22T07:49:08.439076Z",
     "shell.execute_reply": "2024-11-22T07:49:08.437957Z",
     "shell.execute_reply.started": "2024-11-22T07:49:08.427966Z"
    },
    "trusted": true
   },
   "outputs": [],
   "source": [
    "import pandas as pd"
   ]
  },
  {
   "cell_type": "code",
   "execution_count": 23,
   "metadata": {
    "execution": {
     "iopub.execute_input": "2024-11-22T07:50:10.832409Z",
     "iopub.status.busy": "2024-11-22T07:50:10.831989Z",
     "iopub.status.idle": "2024-11-22T07:50:11.250988Z",
     "shell.execute_reply": "2024-11-22T07:50:11.249718Z",
     "shell.execute_reply.started": "2024-11-22T07:50:10.832372Z"
    },
    "trusted": true
   },
   "outputs": [
    {
     "data": {
      "text/html": [
       "<div>\n",
       "<style scoped>\n",
       "    .dataframe tbody tr th:only-of-type {\n",
       "        vertical-align: middle;\n",
       "    }\n",
       "\n",
       "    .dataframe tbody tr th {\n",
       "        vertical-align: top;\n",
       "    }\n",
       "\n",
       "    .dataframe thead th {\n",
       "        text-align: right;\n",
       "    }\n",
       "</style>\n",
       "<table border=\"1\" class=\"dataframe\">\n",
       "  <thead>\n",
       "    <tr style=\"text-align: right;\">\n",
       "      <th></th>\n",
       "      <th>Title</th>\n",
       "      <th>Recipe</th>\n",
       "      <th>Generated Summary</th>\n",
       "      <th>Recipe Word Count</th>\n",
       "      <th>Summary Word Count</th>\n",
       "    </tr>\n",
       "  </thead>\n",
       "  <tbody>\n",
       "    <tr>\n",
       "      <th>0</th>\n",
       "      <td>Midwest Salisbury Steak</td>\n",
       "      <td>### Midwest Salisbury Steak\\n**Description**: Delicious and easy-to-make recipe.\\n\\n**Ingredients**:\\n1 pound ground sirloin; 0.5 cup panko bread crumbs; 1 egg, beaten; 2 tablespoons milk; 0.5 (1 ounce) package dry onion soup mix; 1 teaspoon Worcestershire sauce; 0.25 teaspoon ground black pepper; 3 tablespoons butter; 2 cups fresh mushrooms, sliced; 1 sweet onion, sliced; 3 tablespoons all-purpose flour; 0.5 (1 ounce) package dry onion soup mix; 1.5 cups beef stock; 1 cup water; salt and ground black pepper to taste\\n\\n**Instructions**:\\nGather the ingredients.; Make the patties: Mix ground sirloin, panko bread crumbs, egg, milk, 1/2 packet onion soup mix, Worcestershire sauce, and black pepper together in a large bowl; shape into 5 patties.; Heat a skillet over medium heat. Cook patties in the hot skillet until browned, 3 to 5 minutes per side.; Make the gravy: Melt butter in a separate skillet over medium-high heat. Sauté mushrooms and onion in melted butter until tender, about ...</td>\n",
       "      <td>This recipe for Midwest Salisbury Steak involves mixing ground sirloin with bread crumbs, egg, and seasonings to form patties, then browning them in a skillet and serving with a rich gravy made from sautéed mushrooms, onions, and beef stock.</td>\n",
       "      <td>230</td>\n",
       "      <td>39</td>\n",
       "    </tr>\n",
       "    <tr>\n",
       "      <th>1</th>\n",
       "      <td>Grilled Turkey Legs</td>\n",
       "      <td>### Grilled Turkey Legs\\n**Description**: Delicious and easy-to-make recipe.\\n\\n**Ingredients**:\\n1 (2 liter) bottle lemon-lime flavored carbonated beverage; 2 tablespoons sugar; 2 tablespoons hot sauce; 1 tablespoon crushed red pepper flakes; 1 tablespoon black pepper; 1 large sweet onion, sliced; 4 turkey legs; 2 tablespoons honey; 1 tablespoon steak seasoning\\n\\n**Instructions**:\\nPreheat an outdoor grill for high heat, and lightly oil grate.; In a large pot, mix the lemon-lime flavored carbonated beverage, sugar, hot sauce, red pepper, pepper, and onion. Place the turkey legs in the mixture, and bring to a boil. Cook 30 to 45 minutes, until the turkey has reached an internal temperature of 180 degrees F (80 degrees C).; Remove onion slices from the mixture, and arrange on the prepared grill. Place turkey legs over the onions. Drizzle with honey, and season with steak seasoning. Cook, tuning once, 20 minutes, or until a crisp browned crust has formed on the turkey legs.\\n</td>\n",
       "      <td>This recipe for grilled turkey legs involves marinating turkey legs in a sweet and spicy mixture of lemon-lime soda, sugar, hot sauce, and spices, then grilling them over onions until a crispy browned crust forms.</td>\n",
       "      <td>155</td>\n",
       "      <td>35</td>\n",
       "    </tr>\n",
       "    <tr>\n",
       "      <th>2</th>\n",
       "      <td>Chicken Stir-Fry</td>\n",
       "      <td>### Chicken Stir-Fry\\n**Description**: Delicious and easy-to-make recipe.\\n\\n**Ingredients**:\\n4 cups water; 2 cups white rice; 0.66666668653488 cup soy sauce; 0.25 cup brown sugar; 1 tablespoon cornstarch; 1 tablespoon minced fresh ginger; 1 tablespoon minced garlic; 0.25 teaspoon red pepper flakes; 3 skinless, boneless chicken breast halves, thinly sliced; 2 tablespoons sesame oil, divided; 1 head broccoli, broken into florets; 1 onion, cut into large chunks; 1 cup sliced carrots; 1 (8 ounce) can sliced water chestnuts, drained; 1 green bell pepper, cut into matchsticks\\n\\n**Instructions**:\\nBring water and rice to a boil in a saucepan over high heat. Reduce heat to medium-low, cover, and simmer until rice is tender, and liquid has been absorbed, 20 to 25 minutes.; Meanwhile, combine soy sauce, brown sugar, and cornstarch in a medium glass or ceramic bowl; stir until smooth. Stir in ginger, garlic, and red pepper flakes; add chicken and stir to coat. Cover and marinate in the ref...</td>\n",
       "      <td>This chicken stir-fry recipe combines marinated chicken breast with a mixture of soy sauce, brown sugar, and spices, then cooks it with a variety of vegetables, including broccoli, carrots, and bell peppers, and serves it over cooked white rice.</td>\n",
       "      <td>263</td>\n",
       "      <td>39</td>\n",
       "    </tr>\n",
       "    <tr>\n",
       "      <th>3</th>\n",
       "      <td>Hong Kong-Style Chicken Chow Mein</td>\n",
       "      <td>### Hong Kong-Style Chicken Chow Mein\\n**Description**: Delicious and easy-to-make recipe.\\n\\n**Ingredients**:\\n14 ounces skinless, boneless chicken breast, thinly sliced; 1 egg white, beaten; 2 teaspoons cornstarch; 1 teaspoon sesame oil; 1 (8 ounce) package Chinese egg noodles; 2 tablespoons vegetable oil, or as needed; 0.5 cup chicken broth; 3 spring onions, chopped, or to taste; 1.5 tablespoons light soy sauce; 1 tablespoon rice wine (sake); 0.5 teaspoon ground white pepper; 0.5 teaspoon ground black pepper; 1 tablespoon cornstarch; 2 teaspoons water; 2 tablespoons oyster sauce; 1 cup fresh bean sprouts, or to taste\\n\\n**Instructions**:\\nMix chicken with egg white, 2 teaspoons cornstarch, and sesame oil in a bowl.; Bring a large pot of water to a boil. Add egg noodles; cook until soft, about 4 minutes. Drain. Spread out on paper towels to remove excess moisture.; Heat vegetable oil in a wok over medium heat. Cook and stir noodles in the hot oil until golden brown, 3 to 5 minute...</td>\n",
       "      <td>This Hong Kong-Style Chicken Chow Mein recipe involves stir-frying chicken with vegetables and a savory sauce, served over cooked Chinese egg noodles, using a combination of techniques including marinating, boiling, and pan-frying.</td>\n",
       "      <td>250</td>\n",
       "      <td>32</td>\n",
       "    </tr>\n",
       "    <tr>\n",
       "      <th>4</th>\n",
       "      <td>Simple Hamburger Stroganoff</td>\n",
       "      <td>### Simple Hamburger Stroganoff\\n**Description**: Delicious and easy-to-make recipe.\\n\\n**Ingredients**:\\n1 (16 ounce) package egg noodles; 1 pound lean ground beef; 1 (8 ounce) package cream cheese, cut into pieces; 1 (6 ounce) can chopped mushrooms, with liquid; 1 (.75 ounce) packet dry brown gravy mix; 2 (10.5 ounce) cans condensed cream of mushroom soup; 1 (8 ounce) container sour cream; 0.5 cup milk\\n\\n**Instructions**:\\nFill a large pot with lightly salted water and bring to a rapid boil. Cook egg noodles at a boil until tender yet firm to the bite, 7 to 9 minutes. Drain.; Meanwhile, cook ground beef in a large skillet over medium-high heat, stirring occasionally, until browned and crumbly, 5 to 7 minutes; drain and discard grease. Stir in cream cheese, mushrooms with liquid, and gravy mix; cook and stir over medium heat until cream cheese melts, 2 to 3 minutes. Add condensed soup, sour cream, and milk; cook, stirring occasionally, until smooth and creamy, 3 to 5 minutes.; Dr...</td>\n",
       "      <td>This Simple Hamburger Stroganoff recipe combines cooked egg noodles with a creamy sauce made from ground beef, cream cheese, mushrooms, brown gravy mix, cream of mushroom soup, sour cream, and milk, cooked in a skillet over medium heat.</td>\n",
       "      <td>180</td>\n",
       "      <td>38</td>\n",
       "    </tr>\n",
       "  </tbody>\n",
       "</table>\n",
       "</div>"
      ],
      "text/plain": [
       "                               Title  \\\n",
       "0            Midwest Salisbury Steak   \n",
       "1                Grilled Turkey Legs   \n",
       "2                   Chicken Stir-Fry   \n",
       "3  Hong Kong-Style Chicken Chow Mein   \n",
       "4        Simple Hamburger Stroganoff   \n",
       "\n",
       "                                                                                                                                                                                                                                                                                                                                                                                                                                                                                                                                                                                                                                                                                                                                                                                                                                                                                                                                                                                                                                    Recipe  \\\n",
       "0  ### Midwest Salisbury Steak\\n**Description**: Delicious and easy-to-make recipe.\\n\\n**Ingredients**:\\n1 pound ground sirloin; 0.5 cup panko bread crumbs; 1 egg, beaten; 2 tablespoons milk; 0.5 (1 ounce) package dry onion soup mix; 1 teaspoon Worcestershire sauce; 0.25 teaspoon ground black pepper; 3 tablespoons butter; 2 cups fresh mushrooms, sliced; 1 sweet onion, sliced; 3 tablespoons all-purpose flour; 0.5 (1 ounce) package dry onion soup mix; 1.5 cups beef stock; 1 cup water; salt and ground black pepper to taste\\n\\n**Instructions**:\\nGather the ingredients.; Make the patties: Mix ground sirloin, panko bread crumbs, egg, milk, 1/2 packet onion soup mix, Worcestershire sauce, and black pepper together in a large bowl; shape into 5 patties.; Heat a skillet over medium heat. Cook patties in the hot skillet until browned, 3 to 5 minutes per side.; Make the gravy: Melt butter in a separate skillet over medium-high heat. Sauté mushrooms and onion in melted butter until tender, about ...   \n",
       "1            ### Grilled Turkey Legs\\n**Description**: Delicious and easy-to-make recipe.\\n\\n**Ingredients**:\\n1 (2 liter) bottle lemon-lime flavored carbonated beverage; 2 tablespoons sugar; 2 tablespoons hot sauce; 1 tablespoon crushed red pepper flakes; 1 tablespoon black pepper; 1 large sweet onion, sliced; 4 turkey legs; 2 tablespoons honey; 1 tablespoon steak seasoning\\n\\n**Instructions**:\\nPreheat an outdoor grill for high heat, and lightly oil grate.; In a large pot, mix the lemon-lime flavored carbonated beverage, sugar, hot sauce, red pepper, pepper, and onion. Place the turkey legs in the mixture, and bring to a boil. Cook 30 to 45 minutes, until the turkey has reached an internal temperature of 180 degrees F (80 degrees C).; Remove onion slices from the mixture, and arrange on the prepared grill. Place turkey legs over the onions. Drizzle with honey, and season with steak seasoning. Cook, tuning once, 20 minutes, or until a crisp browned crust has formed on the turkey legs.\\n   \n",
       "2  ### Chicken Stir-Fry\\n**Description**: Delicious and easy-to-make recipe.\\n\\n**Ingredients**:\\n4 cups water; 2 cups white rice; 0.66666668653488 cup soy sauce; 0.25 cup brown sugar; 1 tablespoon cornstarch; 1 tablespoon minced fresh ginger; 1 tablespoon minced garlic; 0.25 teaspoon red pepper flakes; 3 skinless, boneless chicken breast halves, thinly sliced; 2 tablespoons sesame oil, divided; 1 head broccoli, broken into florets; 1 onion, cut into large chunks; 1 cup sliced carrots; 1 (8 ounce) can sliced water chestnuts, drained; 1 green bell pepper, cut into matchsticks\\n\\n**Instructions**:\\nBring water and rice to a boil in a saucepan over high heat. Reduce heat to medium-low, cover, and simmer until rice is tender, and liquid has been absorbed, 20 to 25 minutes.; Meanwhile, combine soy sauce, brown sugar, and cornstarch in a medium glass or ceramic bowl; stir until smooth. Stir in ginger, garlic, and red pepper flakes; add chicken and stir to coat. Cover and marinate in the ref...   \n",
       "3  ### Hong Kong-Style Chicken Chow Mein\\n**Description**: Delicious and easy-to-make recipe.\\n\\n**Ingredients**:\\n14 ounces skinless, boneless chicken breast, thinly sliced; 1 egg white, beaten; 2 teaspoons cornstarch; 1 teaspoon sesame oil; 1 (8 ounce) package Chinese egg noodles; 2 tablespoons vegetable oil, or as needed; 0.5 cup chicken broth; 3 spring onions, chopped, or to taste; 1.5 tablespoons light soy sauce; 1 tablespoon rice wine (sake); 0.5 teaspoon ground white pepper; 0.5 teaspoon ground black pepper; 1 tablespoon cornstarch; 2 teaspoons water; 2 tablespoons oyster sauce; 1 cup fresh bean sprouts, or to taste\\n\\n**Instructions**:\\nMix chicken with egg white, 2 teaspoons cornstarch, and sesame oil in a bowl.; Bring a large pot of water to a boil. Add egg noodles; cook until soft, about 4 minutes. Drain. Spread out on paper towels to remove excess moisture.; Heat vegetable oil in a wok over medium heat. Cook and stir noodles in the hot oil until golden brown, 3 to 5 minute...   \n",
       "4  ### Simple Hamburger Stroganoff\\n**Description**: Delicious and easy-to-make recipe.\\n\\n**Ingredients**:\\n1 (16 ounce) package egg noodles; 1 pound lean ground beef; 1 (8 ounce) package cream cheese, cut into pieces; 1 (6 ounce) can chopped mushrooms, with liquid; 1 (.75 ounce) packet dry brown gravy mix; 2 (10.5 ounce) cans condensed cream of mushroom soup; 1 (8 ounce) container sour cream; 0.5 cup milk\\n\\n**Instructions**:\\nFill a large pot with lightly salted water and bring to a rapid boil. Cook egg noodles at a boil until tender yet firm to the bite, 7 to 9 minutes. Drain.; Meanwhile, cook ground beef in a large skillet over medium-high heat, stirring occasionally, until browned and crumbly, 5 to 7 minutes; drain and discard grease. Stir in cream cheese, mushrooms with liquid, and gravy mix; cook and stir over medium heat until cream cheese melts, 2 to 3 minutes. Add condensed soup, sour cream, and milk; cook, stirring occasionally, until smooth and creamy, 3 to 5 minutes.; Dr...   \n",
       "\n",
       "                                                                                                                                                                                                                                       Generated Summary  \\\n",
       "0      This recipe for Midwest Salisbury Steak involves mixing ground sirloin with bread crumbs, egg, and seasonings to form patties, then browning them in a skillet and serving with a rich gravy made from sautéed mushrooms, onions, and beef stock.   \n",
       "1                                  This recipe for grilled turkey legs involves marinating turkey legs in a sweet and spicy mixture of lemon-lime soda, sugar, hot sauce, and spices, then grilling them over onions until a crispy browned crust forms.   \n",
       "2  This chicken stir-fry recipe combines marinated chicken breast with a mixture of soy sauce, brown sugar, and spices, then cooks it with a variety of vegetables, including broccoli, carrots, and bell peppers, and serves it over cooked white rice.   \n",
       "3                This Hong Kong-Style Chicken Chow Mein recipe involves stir-frying chicken with vegetables and a savory sauce, served over cooked Chinese egg noodles, using a combination of techniques including marinating, boiling, and pan-frying.   \n",
       "4           This Simple Hamburger Stroganoff recipe combines cooked egg noodles with a creamy sauce made from ground beef, cream cheese, mushrooms, brown gravy mix, cream of mushroom soup, sour cream, and milk, cooked in a skillet over medium heat.   \n",
       "\n",
       "   Recipe Word Count  Summary Word Count  \n",
       "0                230                  39  \n",
       "1                155                  35  \n",
       "2                263                  39  \n",
       "3                250                  32  \n",
       "4                180                  38  "
      ]
     },
     "execution_count": 23,
     "metadata": {},
     "output_type": "execute_result"
    }
   ],
   "source": [
    "# Loading data\n",
    "train = pd.read_csv('/kaggle/input/reference-summaries/Reference_Summaries (1).csv')\n",
    "train.head()\n",
    "# test = pd.read_csv('/kaggle/input/mainrecipes')\n",
    "# val = pd.read_csv(\"/kaggle/input/samsum-dataset-text-summarization/samsum-validation.csv\")"
   ]
  },
  {
   "cell_type": "code",
   "execution_count": 24,
   "metadata": {
    "execution": {
     "iopub.execute_input": "2024-11-22T07:50:21.491889Z",
     "iopub.status.busy": "2024-11-22T07:50:21.490902Z",
     "iopub.status.idle": "2024-11-22T07:50:21.497550Z",
     "shell.execute_reply": "2024-11-22T07:50:21.496393Z",
     "shell.execute_reply.started": "2024-11-22T07:50:21.491848Z"
    },
    "trusted": true
   },
   "outputs": [
    {
     "name": "stdout",
     "output_type": "stream",
     "text": [
      "### Grilled Turkey Legs\n",
      "**Description**: Delicious and easy-to-make recipe.\n",
      "\n",
      "**Ingredients**:\n",
      "1 (2 liter) bottle lemon-lime flavored carbonated beverage; 2 tablespoons sugar; 2 tablespoons hot sauce; 1 tablespoon crushed red pepper flakes; 1 tablespoon black pepper; 1 large sweet onion, sliced; 4 turkey legs; 2 tablespoons honey; 1 tablespoon steak seasoning\n",
      "\n",
      "**Instructions**:\n",
      "Preheat an outdoor grill for high heat, and lightly oil grate.; In a large pot, mix the lemon-lime flavored carbonated beverage, sugar, hot sauce, red pepper, pepper, and onion. Place the turkey legs in the mixture, and bring to a boil. Cook 30 to 45 minutes, until the turkey has reached an internal temperature of 180 degrees F (80 degrees C).; Remove onion slices from the mixture, and arrange on the prepared grill. Place turkey legs over the onions. Drizzle with honey, and season with steak seasoning. Cook, tuning once, 20 minutes, or until a crisp browned crust has formed on the turkey legs.\n",
      "\n"
     ]
    }
   ],
   "source": [
    "print(train['Recipe'][1])"
   ]
  },
  {
   "cell_type": "code",
   "execution_count": 25,
   "metadata": {
    "execution": {
     "iopub.execute_input": "2024-11-22T07:50:22.520952Z",
     "iopub.status.busy": "2024-11-22T07:50:22.520532Z",
     "iopub.status.idle": "2024-11-22T07:50:22.532799Z",
     "shell.execute_reply": "2024-11-22T07:50:22.531617Z",
     "shell.execute_reply.started": "2024-11-22T07:50:22.520918Z"
    },
    "trusted": true
   },
   "outputs": [],
   "source": [
    "train = train.drop(columns=['Title','Recipe Word Count', 'Summary Word Count'],axis =1)\n"
   ]
  },
  {
   "cell_type": "code",
   "execution_count": 26,
   "metadata": {
    "execution": {
     "iopub.execute_input": "2024-11-22T07:50:23.479255Z",
     "iopub.status.busy": "2024-11-22T07:50:23.478837Z",
     "iopub.status.idle": "2024-11-22T07:50:23.623030Z",
     "shell.execute_reply": "2024-11-22T07:50:23.621754Z",
     "shell.execute_reply.started": "2024-11-22T07:50:23.479219Z"
    },
    "trusted": true
   },
   "outputs": [
    {
     "name": "stdout",
     "output_type": "stream",
     "text": [
      "Updated DataFrame:\n",
      "                                                                                                                                                                                                                                                                                                                                                                                                                                                                                                                                                                                                                                                                                                                                                                                                                                                                                                                                                                                                                                    Recipe  \\\n",
      "0  Midwest Salisbury Steak\\nDelicious and easy-to-make recipe.\\n1 pound ground sirloin; 0.5 cup panko bread crumbs; 1 egg, beaten; 2 tablespoons milk; 0.5 (1 ounce) package dry onion soup mix; 1 teaspoon Worcestershire sauce; 0.25 teaspoon ground black pepper; 3 tablespoons butter; 2 cups fresh mushrooms, sliced; 1 sweet onion, sliced; 3 tablespoons all-purpose flour; 0.5 (1 ounce) package dry onion soup mix; 1.5 cups beef stock; 1 cup water; salt and ground black pepper to taste\\nGather the ingredients.; Make the patties: Mix ground sirloin, panko bread crumbs, egg, milk, 1/2 packet onion soup mix, Worcestershire sauce, and black pepper together in a large bowl; shape into 5 patties.; Heat a skillet over medium heat. Cook patties in the hot skillet until browned, 3 to 5 minutes per side.; Make the gravy: Melt butter in a separate skillet over medium-high heat. Sauté mushrooms and onion in melted butter until tender, about 5 minutes. Stir flour and remaining 1/2 packet onion soup mix ...   \n",
      "\n",
      "                                                                                                                                                                                                                                   Generated Summary  \n",
      "0  This recipe for Midwest Salisbury Steak involves mixing ground sirloin with bread crumbs, egg, and seasonings to form patties, then browning them in a skillet and serving with a rich gravy made from sautéed mushrooms, onions, and beef stock.  \n"
     ]
    }
   ],
   "source": [
    "import pandas as pd\n",
    "\n",
    "# Load the dataset\n",
    "\n",
    "# Function to clean the 'Recipe' column\n",
    "def clean_recipe(recipe):\n",
    "    if isinstance(recipe, str):  # Ensure the entry is a string\n",
    "        # Remove unwanted prefixes and text markers\n",
    "        recipe = recipe.replace('### ', '').replace('**Description**:', '')\n",
    "        recipe = recipe.replace('**Ingredients**:', '').replace('**Instructions**:', '')\n",
    "        # Remove excessive newlines and whitespace\n",
    "        recipe = '\\n'.join([line.strip() for line in recipe.splitlines() if line.strip()])\n",
    "    return recipe\n",
    "\n",
    "# Apply the cleaning function to the 'Recipe' column\n",
    "train['Recipe'] = train['Recipe'].apply(clean_recipe)\n",
    "\n",
    "# Display the updated DataFrame\n",
    "print(\"Updated DataFrame:\")\n",
    "print(train.head(1))\n"
   ]
  },
  {
   "cell_type": "code",
   "execution_count": 27,
   "metadata": {
    "execution": {
     "iopub.execute_input": "2024-11-22T07:50:24.337020Z",
     "iopub.status.busy": "2024-11-22T07:50:24.336590Z",
     "iopub.status.idle": "2024-11-22T07:50:24.342782Z",
     "shell.execute_reply": "2024-11-22T07:50:24.341638Z",
     "shell.execute_reply.started": "2024-11-22T07:50:24.336988Z"
    },
    "trusted": true
   },
   "outputs": [
    {
     "name": "stdout",
     "output_type": "stream",
     "text": [
      "Index(['Recipe', 'Generated Summary'], dtype='object')\n"
     ]
    }
   ],
   "source": [
    "# Print the column names in the train DataFrame\n",
    "print(train.columns)\n"
   ]
  },
  {
   "cell_type": "code",
   "execution_count": 28,
   "metadata": {
    "execution": {
     "iopub.execute_input": "2024-11-22T07:50:25.004865Z",
     "iopub.status.busy": "2024-11-22T07:50:25.004440Z",
     "iopub.status.idle": "2024-11-22T07:50:25.020017Z",
     "shell.execute_reply": "2024-11-22T07:50:25.018732Z",
     "shell.execute_reply.started": "2024-11-22T07:50:25.004829Z"
    },
    "trusted": true
   },
   "outputs": [],
   "source": [
    "from sklearn.model_selection import train_test_split\n",
    "\n",
    "# Load the dataset\n",
    "\n",
    "# Split into train (70%) and temp (30%)\n",
    "train_data, temp_data = train_test_split(train, test_size=0.3, random_state=42)\n",
    "\n",
    "# Split temp into validation (20%) and test (10%) relative to original dataset\n",
    "val_data, test_data = train_test_split(temp_data, test_size=1/3, random_state=42)"
   ]
  },
  {
   "cell_type": "code",
   "execution_count": 29,
   "metadata": {
    "execution": {
     "iopub.execute_input": "2024-11-22T07:50:25.521049Z",
     "iopub.status.busy": "2024-11-22T07:50:25.519988Z",
     "iopub.status.idle": "2024-11-22T07:50:25.526922Z",
     "shell.execute_reply": "2024-11-22T07:50:25.525356Z",
     "shell.execute_reply.started": "2024-11-22T07:50:25.521008Z"
    },
    "trusted": true
   },
   "outputs": [
    {
     "name": "stdout",
     "output_type": "stream",
     "text": [
      "14000\n"
     ]
    }
   ],
   "source": [
    "print(len(train))\n"
   ]
  },
  {
   "cell_type": "code",
   "execution_count": 30,
   "metadata": {
    "execution": {
     "iopub.execute_input": "2024-11-22T07:50:26.095015Z",
     "iopub.status.busy": "2024-11-22T07:50:26.094584Z",
     "iopub.status.idle": "2024-11-22T07:50:26.106578Z",
     "shell.execute_reply": "2024-11-22T07:50:26.105029Z",
     "shell.execute_reply.started": "2024-11-22T07:50:26.094978Z"
    },
    "trusted": true
   },
   "outputs": [
    {
     "data": {
      "text/html": [
       "<div>\n",
       "<style scoped>\n",
       "    .dataframe tbody tr th:only-of-type {\n",
       "        vertical-align: middle;\n",
       "    }\n",
       "\n",
       "    .dataframe tbody tr th {\n",
       "        vertical-align: top;\n",
       "    }\n",
       "\n",
       "    .dataframe thead th {\n",
       "        text-align: right;\n",
       "    }\n",
       "</style>\n",
       "<table border=\"1\" class=\"dataframe\">\n",
       "  <thead>\n",
       "    <tr style=\"text-align: right;\">\n",
       "      <th></th>\n",
       "      <th>Recipe</th>\n",
       "      <th>Generated Summary</th>\n",
       "    </tr>\n",
       "  </thead>\n",
       "  <tbody>\n",
       "    <tr>\n",
       "      <th>0</th>\n",
       "      <td>Midwest Salisbury Steak\\nDelicious and easy-to-make recipe.\\n1 pound ground sirloin; 0.5 cup panko bread crumbs; 1 egg, beaten; 2 tablespoons milk; 0.5 (1 ounce) package dry onion soup mix; 1 teaspoon Worcestershire sauce; 0.25 teaspoon ground black pepper; 3 tablespoons butter; 2 cups fresh mushrooms, sliced; 1 sweet onion, sliced; 3 tablespoons all-purpose flour; 0.5 (1 ounce) package dry onion soup mix; 1.5 cups beef stock; 1 cup water; salt and ground black pepper to taste\\nGather the ingredients.; Make the patties: Mix ground sirloin, panko bread crumbs, egg, milk, 1/2 packet onion soup mix, Worcestershire sauce, and black pepper together in a large bowl; shape into 5 patties.; Heat a skillet over medium heat. Cook patties in the hot skillet until browned, 3 to 5 minutes per side.; Make the gravy: Melt butter in a separate skillet over medium-high heat. Sauté mushrooms and onion in melted butter until tender, about 5 minutes. Stir flour and remaining 1/2 packet onion soup mix ...</td>\n",
       "      <td>This recipe for Midwest Salisbury Steak involves mixing ground sirloin with bread crumbs, egg, and seasonings to form patties, then browning them in a skillet and serving with a rich gravy made from sautéed mushrooms, onions, and beef stock.</td>\n",
       "    </tr>\n",
       "    <tr>\n",
       "      <th>1</th>\n",
       "      <td>Grilled Turkey Legs\\nDelicious and easy-to-make recipe.\\n1 (2 liter) bottle lemon-lime flavored carbonated beverage; 2 tablespoons sugar; 2 tablespoons hot sauce; 1 tablespoon crushed red pepper flakes; 1 tablespoon black pepper; 1 large sweet onion, sliced; 4 turkey legs; 2 tablespoons honey; 1 tablespoon steak seasoning\\nPreheat an outdoor grill for high heat, and lightly oil grate.; In a large pot, mix the lemon-lime flavored carbonated beverage, sugar, hot sauce, red pepper, pepper, and onion. Place the turkey legs in the mixture, and bring to a boil. Cook 30 to 45 minutes, until the turkey has reached an internal temperature of 180 degrees F (80 degrees C).; Remove onion slices from the mixture, and arrange on the prepared grill. Place turkey legs over the onions. Drizzle with honey, and season with steak seasoning. Cook, tuning once, 20 minutes, or until a crisp browned crust has formed on the turkey legs.</td>\n",
       "      <td>This recipe for grilled turkey legs involves marinating turkey legs in a sweet and spicy mixture of lemon-lime soda, sugar, hot sauce, and spices, then grilling them over onions until a crispy browned crust forms.</td>\n",
       "    </tr>\n",
       "    <tr>\n",
       "      <th>2</th>\n",
       "      <td>Chicken Stir-Fry\\nDelicious and easy-to-make recipe.\\n4 cups water; 2 cups white rice; 0.66666668653488 cup soy sauce; 0.25 cup brown sugar; 1 tablespoon cornstarch; 1 tablespoon minced fresh ginger; 1 tablespoon minced garlic; 0.25 teaspoon red pepper flakes; 3 skinless, boneless chicken breast halves, thinly sliced; 2 tablespoons sesame oil, divided; 1 head broccoli, broken into florets; 1 onion, cut into large chunks; 1 cup sliced carrots; 1 (8 ounce) can sliced water chestnuts, drained; 1 green bell pepper, cut into matchsticks\\nBring water and rice to a boil in a saucepan over high heat. Reduce heat to medium-low, cover, and simmer until rice is tender, and liquid has been absorbed, 20 to 25 minutes.; Meanwhile, combine soy sauce, brown sugar, and cornstarch in a medium glass or ceramic bowl; stir until smooth. Stir in ginger, garlic, and red pepper flakes; add chicken and stir to coat. Cover and marinate in the refrigerator for at least 15 minutes.; Heat 1 tablespoon sesame o...</td>\n",
       "      <td>This chicken stir-fry recipe combines marinated chicken breast with a mixture of soy sauce, brown sugar, and spices, then cooks it with a variety of vegetables, including broccoli, carrots, and bell peppers, and serves it over cooked white rice.</td>\n",
       "    </tr>\n",
       "    <tr>\n",
       "      <th>3</th>\n",
       "      <td>Hong Kong-Style Chicken Chow Mein\\nDelicious and easy-to-make recipe.\\n14 ounces skinless, boneless chicken breast, thinly sliced; 1 egg white, beaten; 2 teaspoons cornstarch; 1 teaspoon sesame oil; 1 (8 ounce) package Chinese egg noodles; 2 tablespoons vegetable oil, or as needed; 0.5 cup chicken broth; 3 spring onions, chopped, or to taste; 1.5 tablespoons light soy sauce; 1 tablespoon rice wine (sake); 0.5 teaspoon ground white pepper; 0.5 teaspoon ground black pepper; 1 tablespoon cornstarch; 2 teaspoons water; 2 tablespoons oyster sauce; 1 cup fresh bean sprouts, or to taste\\nMix chicken with egg white, 2 teaspoons cornstarch, and sesame oil in a bowl.; Bring a large pot of water to a boil. Add egg noodles; cook until soft, about 4 minutes. Drain. Spread out on paper towels to remove excess moisture.; Heat vegetable oil in a wok over medium heat. Cook and stir noodles in the hot oil until golden brown, 3 to 5 minutes per side. Drain on paper towels.; Stir chicken into the wok;...</td>\n",
       "      <td>This Hong Kong-Style Chicken Chow Mein recipe involves stir-frying chicken with vegetables and a savory sauce, served over cooked Chinese egg noodles, using a combination of techniques including marinating, boiling, and pan-frying.</td>\n",
       "    </tr>\n",
       "    <tr>\n",
       "      <th>4</th>\n",
       "      <td>Simple Hamburger Stroganoff\\nDelicious and easy-to-make recipe.\\n1 (16 ounce) package egg noodles; 1 pound lean ground beef; 1 (8 ounce) package cream cheese, cut into pieces; 1 (6 ounce) can chopped mushrooms, with liquid; 1 (.75 ounce) packet dry brown gravy mix; 2 (10.5 ounce) cans condensed cream of mushroom soup; 1 (8 ounce) container sour cream; 0.5 cup milk\\nFill a large pot with lightly salted water and bring to a rapid boil. Cook egg noodles at a boil until tender yet firm to the bite, 7 to 9 minutes. Drain.; Meanwhile, cook ground beef in a large skillet over medium-high heat, stirring occasionally, until browned and crumbly, 5 to 7 minutes; drain and discard grease. Stir in cream cheese, mushrooms with liquid, and gravy mix; cook and stir over medium heat until cream cheese melts, 2 to 3 minutes. Add condensed soup, sour cream, and milk; cook, stirring occasionally, until smooth and creamy, 3 to 5 minutes.; Drain egg noodles; stir into the beef mixture. Cook until heated...</td>\n",
       "      <td>This Simple Hamburger Stroganoff recipe combines cooked egg noodles with a creamy sauce made from ground beef, cream cheese, mushrooms, brown gravy mix, cream of mushroom soup, sour cream, and milk, cooked in a skillet over medium heat.</td>\n",
       "    </tr>\n",
       "  </tbody>\n",
       "</table>\n",
       "</div>"
      ],
      "text/plain": [
       "                                                                                                                                                                                                                                                                                                                                                                                                                                                                                                                                                                                                                                                                                                                                                                                                                                                                                                                                                                                                                                    Recipe  \\\n",
       "0  Midwest Salisbury Steak\\nDelicious and easy-to-make recipe.\\n1 pound ground sirloin; 0.5 cup panko bread crumbs; 1 egg, beaten; 2 tablespoons milk; 0.5 (1 ounce) package dry onion soup mix; 1 teaspoon Worcestershire sauce; 0.25 teaspoon ground black pepper; 3 tablespoons butter; 2 cups fresh mushrooms, sliced; 1 sweet onion, sliced; 3 tablespoons all-purpose flour; 0.5 (1 ounce) package dry onion soup mix; 1.5 cups beef stock; 1 cup water; salt and ground black pepper to taste\\nGather the ingredients.; Make the patties: Mix ground sirloin, panko bread crumbs, egg, milk, 1/2 packet onion soup mix, Worcestershire sauce, and black pepper together in a large bowl; shape into 5 patties.; Heat a skillet over medium heat. Cook patties in the hot skillet until browned, 3 to 5 minutes per side.; Make the gravy: Melt butter in a separate skillet over medium-high heat. Sauté mushrooms and onion in melted butter until tender, about 5 minutes. Stir flour and remaining 1/2 packet onion soup mix ...   \n",
       "1                                                                            Grilled Turkey Legs\\nDelicious and easy-to-make recipe.\\n1 (2 liter) bottle lemon-lime flavored carbonated beverage; 2 tablespoons sugar; 2 tablespoons hot sauce; 1 tablespoon crushed red pepper flakes; 1 tablespoon black pepper; 1 large sweet onion, sliced; 4 turkey legs; 2 tablespoons honey; 1 tablespoon steak seasoning\\nPreheat an outdoor grill for high heat, and lightly oil grate.; In a large pot, mix the lemon-lime flavored carbonated beverage, sugar, hot sauce, red pepper, pepper, and onion. Place the turkey legs in the mixture, and bring to a boil. Cook 30 to 45 minutes, until the turkey has reached an internal temperature of 180 degrees F (80 degrees C).; Remove onion slices from the mixture, and arrange on the prepared grill. Place turkey legs over the onions. Drizzle with honey, and season with steak seasoning. Cook, tuning once, 20 minutes, or until a crisp browned crust has formed on the turkey legs.   \n",
       "2  Chicken Stir-Fry\\nDelicious and easy-to-make recipe.\\n4 cups water; 2 cups white rice; 0.66666668653488 cup soy sauce; 0.25 cup brown sugar; 1 tablespoon cornstarch; 1 tablespoon minced fresh ginger; 1 tablespoon minced garlic; 0.25 teaspoon red pepper flakes; 3 skinless, boneless chicken breast halves, thinly sliced; 2 tablespoons sesame oil, divided; 1 head broccoli, broken into florets; 1 onion, cut into large chunks; 1 cup sliced carrots; 1 (8 ounce) can sliced water chestnuts, drained; 1 green bell pepper, cut into matchsticks\\nBring water and rice to a boil in a saucepan over high heat. Reduce heat to medium-low, cover, and simmer until rice is tender, and liquid has been absorbed, 20 to 25 minutes.; Meanwhile, combine soy sauce, brown sugar, and cornstarch in a medium glass or ceramic bowl; stir until smooth. Stir in ginger, garlic, and red pepper flakes; add chicken and stir to coat. Cover and marinate in the refrigerator for at least 15 minutes.; Heat 1 tablespoon sesame o...   \n",
       "3  Hong Kong-Style Chicken Chow Mein\\nDelicious and easy-to-make recipe.\\n14 ounces skinless, boneless chicken breast, thinly sliced; 1 egg white, beaten; 2 teaspoons cornstarch; 1 teaspoon sesame oil; 1 (8 ounce) package Chinese egg noodles; 2 tablespoons vegetable oil, or as needed; 0.5 cup chicken broth; 3 spring onions, chopped, or to taste; 1.5 tablespoons light soy sauce; 1 tablespoon rice wine (sake); 0.5 teaspoon ground white pepper; 0.5 teaspoon ground black pepper; 1 tablespoon cornstarch; 2 teaspoons water; 2 tablespoons oyster sauce; 1 cup fresh bean sprouts, or to taste\\nMix chicken with egg white, 2 teaspoons cornstarch, and sesame oil in a bowl.; Bring a large pot of water to a boil. Add egg noodles; cook until soft, about 4 minutes. Drain. Spread out on paper towels to remove excess moisture.; Heat vegetable oil in a wok over medium heat. Cook and stir noodles in the hot oil until golden brown, 3 to 5 minutes per side. Drain on paper towels.; Stir chicken into the wok;...   \n",
       "4  Simple Hamburger Stroganoff\\nDelicious and easy-to-make recipe.\\n1 (16 ounce) package egg noodles; 1 pound lean ground beef; 1 (8 ounce) package cream cheese, cut into pieces; 1 (6 ounce) can chopped mushrooms, with liquid; 1 (.75 ounce) packet dry brown gravy mix; 2 (10.5 ounce) cans condensed cream of mushroom soup; 1 (8 ounce) container sour cream; 0.5 cup milk\\nFill a large pot with lightly salted water and bring to a rapid boil. Cook egg noodles at a boil until tender yet firm to the bite, 7 to 9 minutes. Drain.; Meanwhile, cook ground beef in a large skillet over medium-high heat, stirring occasionally, until browned and crumbly, 5 to 7 minutes; drain and discard grease. Stir in cream cheese, mushrooms with liquid, and gravy mix; cook and stir over medium heat until cream cheese melts, 2 to 3 minutes. Add condensed soup, sour cream, and milk; cook, stirring occasionally, until smooth and creamy, 3 to 5 minutes.; Drain egg noodles; stir into the beef mixture. Cook until heated...   \n",
       "\n",
       "                                                                                                                                                                                                                                       Generated Summary  \n",
       "0      This recipe for Midwest Salisbury Steak involves mixing ground sirloin with bread crumbs, egg, and seasonings to form patties, then browning them in a skillet and serving with a rich gravy made from sautéed mushrooms, onions, and beef stock.  \n",
       "1                                  This recipe for grilled turkey legs involves marinating turkey legs in a sweet and spicy mixture of lemon-lime soda, sugar, hot sauce, and spices, then grilling them over onions until a crispy browned crust forms.  \n",
       "2  This chicken stir-fry recipe combines marinated chicken breast with a mixture of soy sauce, brown sugar, and spices, then cooks it with a variety of vegetables, including broccoli, carrots, and bell peppers, and serves it over cooked white rice.  \n",
       "3                This Hong Kong-Style Chicken Chow Mein recipe involves stir-frying chicken with vegetables and a savory sauce, served over cooked Chinese egg noodles, using a combination of techniques including marinating, boiling, and pan-frying.  \n",
       "4           This Simple Hamburger Stroganoff recipe combines cooked egg noodles with a creamy sauce made from ground beef, cream cheese, mushrooms, brown gravy mix, cream of mushroom soup, sour cream, and milk, cooked in a skillet over medium heat.  "
      ]
     },
     "execution_count": 30,
     "metadata": {},
     "output_type": "execute_result"
    }
   ],
   "source": [
    "train.head()"
   ]
  },
  {
   "cell_type": "code",
   "execution_count": 31,
   "metadata": {
    "execution": {
     "iopub.execute_input": "2024-11-22T07:50:26.752040Z",
     "iopub.status.busy": "2024-11-22T07:50:26.751640Z",
     "iopub.status.idle": "2024-11-22T07:50:26.763775Z",
     "shell.execute_reply": "2024-11-22T07:50:26.762417Z",
     "shell.execute_reply.started": "2024-11-22T07:50:26.752004Z"
    },
    "trusted": true
   },
   "outputs": [
    {
     "name": "stdout",
     "output_type": "stream",
     "text": [
      "Train Data (First 5 rows):\n",
      "                                                                                                                                                                                                                                                                                                                                                                                                                                                                                                                                                                                                                                                                                                                                                                                                                                                                                                                                                                                                                                    Recipe  \\\n",
      "0  Midwest Salisbury Steak\\nDelicious and easy-to-make recipe.\\n1 pound ground sirloin; 0.5 cup panko bread crumbs; 1 egg, beaten; 2 tablespoons milk; 0.5 (1 ounce) package dry onion soup mix; 1 teaspoon Worcestershire sauce; 0.25 teaspoon ground black pepper; 3 tablespoons butter; 2 cups fresh mushrooms, sliced; 1 sweet onion, sliced; 3 tablespoons all-purpose flour; 0.5 (1 ounce) package dry onion soup mix; 1.5 cups beef stock; 1 cup water; salt and ground black pepper to taste\\nGather the ingredients.; Make the patties: Mix ground sirloin, panko bread crumbs, egg, milk, 1/2 packet onion soup mix, Worcestershire sauce, and black pepper together in a large bowl; shape into 5 patties.; Heat a skillet over medium heat. Cook patties in the hot skillet until browned, 3 to 5 minutes per side.; Make the gravy: Melt butter in a separate skillet over medium-high heat. Sauté mushrooms and onion in melted butter until tender, about 5 minutes. Stir flour and remaining 1/2 packet onion soup mix ...   \n",
      "\n",
      "                                                                                                                                                                                                                                   Generated Summary  \n",
      "0  This recipe for Midwest Salisbury Steak involves mixing ground sirloin with bread crumbs, egg, and seasonings to form patties, then browning them in a skillet and serving with a rich gravy made from sautéed mushrooms, onions, and beef stock.   \n",
      "\n",
      "Validation Data (First 5 rows):\n",
      "                                                                                                                                                                                                                                                                                                                                                                                                                                                                                                                                                                                                                                                                                                                                                                                                                                                                                                                                                                                                                                        Recipe  \\\n",
      "13766  Potato and Egg Casserole\\nDelicious and easy-to-make recipe.\\n6 medium potatoes; 8 large eggs; 1 teaspoon seasoning salt, or to taste; 1 cup margarine; 1 (16 ounce) container sour cream\\nPreheat the oven to 350 degrees F (175 degrees C).; Bring a large pot of salted water to a boil. Add potatoes and cook until tender but still firm, about 15 minutes. Drain and let cool.; While the potatoes are cooking, cover eggs in a saucepan and with cold water. Bring water to a boil, then immediately remove from heat. Cover and let eggs stand in hot water for 10 to 12 minutes. Remove eggs from hot water and place under cold running water to cool.; Slice potatoes. Peel and slice eggs.; Starting and ending with potatoes, layer potatoes and eggs in a 9x13-inch casserole dish, sprinkling each layer of eggs with seasoning salt.; Cook and stir sour cream and margarine in a small saucepan over low heat until melted. Pour over casserole and sprinkle lightly with seasoning salt.; Bake in the preheated ov...   \n",
      "\n",
      "                                                                                                                                                   Generated Summary  \n",
      "13766  This potato and egg casserole recipe combines boiled potatoes and eggs with a creamy sauce made from sour cream and margarine, layered and baked in the oven.   \n",
      "\n",
      "Test Data (First 5 rows):\n",
      "                                                                                                                                                                                                                                                                                                                                                                                                                                                                                                                                                                                                                                            Recipe  \\\n",
      "676  Cajun Shrimp Boil\\nDelicious and easy-to-make recipe.\\n1 (15 ounce) can tomato sauce; 1 (8 ounce) jar seafood sauce (such as McCormick® Cajun Seafood Sauce); 1 cup water; 0.5 cup chicken broth; 0.5 cup clam juice; 1 teaspoon minced garlic; 3 tablespoons butter; 1 pinch salt and ground black pepper to taste; 0.5 pound shrimp, with shell and deveined, or more to taste\\nBring tomato sauce, seafood sauce, water, chicken broth, clam juice, and garlic to a boil in a saucepan; add butter and stir until melted. Season sauce with salt and pepper. Add shrimp to sauce and cook until shrimp is cooked through, about 5 minutes.   \n",
      "\n",
      "                                                                                                                                                                                       Generated Summary  \n",
      "676  This Cajun Shrimp Boil recipe combines shrimp with a flavorful sauce made from tomato sauce, seafood sauce, chicken broth, clam juice, and garlic, then cooks the shrimp in the sauce until tender.   \n",
      "\n"
     ]
    }
   ],
   "source": [
    "# Displaying the head of the train, validation, and test dataframes\n",
    "print(\"Train Data (First 5 rows):\")\n",
    "print(train.head(1), \"\\n\")\n",
    "\n",
    "print(\"Validation Data (First 5 rows):\")\n",
    "print(val_data.head(1), \"\\n\")\n",
    "\n",
    "print(\"Test Data (First 5 rows):\")\n",
    "print(test_data.head(1), \"\\n\")\n",
    "\n",
    "#"
   ]
  },
  {
   "cell_type": "code",
   "execution_count": 32,
   "metadata": {
    "execution": {
     "iopub.execute_input": "2024-11-22T07:50:27.229208Z",
     "iopub.status.busy": "2024-11-22T07:50:27.228268Z",
     "iopub.status.idle": "2024-11-22T07:50:27.236797Z",
     "shell.execute_reply": "2024-11-22T07:50:27.235653Z",
     "shell.execute_reply.started": "2024-11-22T07:50:27.229169Z"
    },
    "trusted": true
   },
   "outputs": [
    {
     "data": {
      "text/plain": [
       "Recipe               Peanut Butter Brownies II\\nDelicious and easy-to-make recipe.\\n2 cups white sugar; 3 eggs; 1 cup butter, melted; 2.5 teaspoons vanilla extract; 1.25 cups all-purpose flour; 0.75 cup unsweetened cocoa powder; 0.5 teaspoon baking powder; 0.25 teaspoon salt; 1 cup milk chocolate chips; 2 (8 ounce) packages cream cheese, softened; 0.75 cup creamy peanut butter; 0.25 cup white sugar; 1 egg; 2 tablespoons milk\\nPreheat oven to 350 degrees F (175 degrees C). Grease a 9x13 inch baking pan.; In a large bowl, beat 2 cups sugar and 3 eggs together until foamy. Stir in the butter and vanilla. Combine the flour, cocoa, baking powder and salt; stir into the egg mixture. Stir in the chocolate chips. Reserve one cup of the batter, and spread the rest into the bottom of the prepared pan.; In a medium bowl, beat the cream cheese, peanut butter, 1/4 cup of sugar 1 egg and milk until smooth and creamy. Carefully spread the peanut butter batter over the layer of chocolate batter. Drop reserved chocolat...\n",
       "Generated Summary                                                                                                                                                                                                                                                                                                                                                                                                                                                                                                                                                                                                                                                                                                                                                    This recipe for Peanut Butter Brownies II combines white sugar, melted butter, eggs, unsweetened cocoa powder, milk chocolate chips, cream cheese, peanut butter, and vanilla extract, then layers and swirls them in a 9x13 inch pan before baking at 350 degrees F for 35-40 minutes.\n",
       "Name: 12010, dtype: object"
      ]
     },
     "execution_count": 32,
     "metadata": {},
     "output_type": "execute_result"
    }
   ],
   "source": [
    "val_data.iloc[788]"
   ]
  },
  {
   "cell_type": "code",
   "execution_count": 33,
   "metadata": {
    "execution": {
     "iopub.execute_input": "2024-11-22T07:50:27.758279Z",
     "iopub.status.busy": "2024-11-22T07:50:27.757295Z",
     "iopub.status.idle": "2024-11-22T07:50:27.764510Z",
     "shell.execute_reply": "2024-11-22T07:50:27.763599Z",
     "shell.execute_reply.started": "2024-11-22T07:50:27.758233Z"
    },
    "trusted": true
   },
   "outputs": [
    {
     "data": {
      "text/plain": [
       "'Cajun Baked Chicken Strips\\nDelicious and easy-to-make recipe.\\nnonstick cooking spray; 0.5 cup panko bread crumbs; 0.25 cup plain bread crumbs; 2 tablespoons Cajun seasoning; 0.25 teaspoon ground black pepper; 2 large eggs; 1.5 pounds chicken breast tenderloins; 0.25 cup all-purpose flour\\nPreheat the oven to 350 degrees F (175 degrees C). Spray an 8x11-inch baking pan with cooking spray.; Mix panko and plain bread crumbs together in a shallow bowl. Add Creole seasoning and pepper; mix thoroughly. Beat eggs in another bowl.; Cover tenderloins in flour, then dip in egg mixture, following with a heavy coating of bread crumb mixture. Place the breaded chicken pieces in the greased pan.; Bake in the preheated oven until golden and no longer pink in the centers, about 20 minutes, turning chicken pieces halfway through. An instant-read thermometer inserted into the center should read at least 165 degrees F (74 degrees C).'"
      ]
     },
     "execution_count": 33,
     "metadata": {},
     "output_type": "execute_result"
    }
   ],
   "source": [
    "val_data['Recipe'].iloc[1477]"
   ]
  },
  {
   "cell_type": "markdown",
   "metadata": {},
   "source": [
    "re.match('.*:\\s*$', line): Checks if a line ends with a colon followed by optional whitespace (e.g., Theresa:). This pattern identifies lines that might be empty or just contain a speaker’s name."
   ]
  },
  {
   "cell_type": "code",
   "execution_count": 34,
   "metadata": {
    "execution": {
     "iopub.execute_input": "2024-11-22T07:50:28.860029Z",
     "iopub.status.busy": "2024-11-22T07:50:28.859630Z",
     "iopub.status.idle": "2024-11-22T07:50:28.865401Z",
     "shell.execute_reply": "2024-11-22T07:50:28.864046Z",
     "shell.execute_reply.started": "2024-11-22T07:50:28.859995Z"
    },
    "trusted": true
   },
   "outputs": [],
   "source": [
    "from datasets import Dataset\n"
   ]
  },
  {
   "cell_type": "code",
   "execution_count": 35,
   "metadata": {
    "execution": {
     "iopub.execute_input": "2024-11-22T07:50:29.400103Z",
     "iopub.status.busy": "2024-11-22T07:50:29.399260Z",
     "iopub.status.idle": "2024-11-22T07:50:29.481531Z",
     "shell.execute_reply": "2024-11-22T07:50:29.480429Z",
     "shell.execute_reply.started": "2024-11-22T07:50:29.400064Z"
    },
    "trusted": true
   },
   "outputs": [
    {
     "name": "stdout",
     "output_type": "stream",
     "text": [
      "Dataset({\n",
      "    features: ['Recipe', 'Generated Summary', '__index_level_0__'],\n",
      "    num_rows: 9800\n",
      "})\n",
      "\n",
      "\n",
      "\n",
      "Dataset({\n",
      "    features: ['Recipe', 'Generated Summary', '__index_level_0__'],\n",
      "    num_rows: 1400\n",
      "})\n",
      "\n",
      "\n",
      "\n",
      "Dataset({\n",
      "    features: ['Recipe', 'Generated Summary', '__index_level_0__'],\n",
      "    num_rows: 2800\n",
      "})\n"
     ]
    }
   ],
   "source": [
    "# Transforming dataframes into datasets\n",
    "train_ds = Dataset.from_pandas(train_data)\n",
    "test_ds = Dataset.from_pandas(test_data )\n",
    "val_ds = Dataset.from_pandas(val_data)\n",
    "\n",
    "# Visualizing results\n",
    "print(train_ds)\n",
    "print('\\n' * 2)\n",
    "print(test_ds)\n",
    "print('\\n' * 2)\n",
    "print(val_ds)"
   ]
  },
  {
   "cell_type": "markdown",
   "metadata": {},
   "source": [
    "Data Loader: A utility for managing the loading, batching, and preprocessing of data for machine learning models.\n",
    "Dataset: The raw collection of data that is read and processed by a data loader.\n",
    "DataFrame: A specific data structure used in pandas for in-memory data manipulation, often used to prepare data before feeding it into a data loader."
   ]
  },
  {
   "cell_type": "code",
   "execution_count": 36,
   "metadata": {
    "execution": {
     "iopub.execute_input": "2024-11-22T07:50:30.910793Z",
     "iopub.status.busy": "2024-11-22T07:50:30.910359Z",
     "iopub.status.idle": "2024-11-22T07:50:30.922404Z",
     "shell.execute_reply": "2024-11-22T07:50:30.921296Z",
     "shell.execute_reply.started": "2024-11-22T07:50:30.910756Z"
    },
    "trusted": true
   },
   "outputs": [],
   "source": [
    "# Remove the `__index_level_0__` column from all datasets before and after tokenization\n",
    "train_ds = train_ds.remove_columns(['__index_level_0__'])\n",
    "test_ds = test_ds.remove_columns(['__index_level_0__'])\n",
    "val_ds = val_ds.remove_columns(['__index_level_0__'])\n"
   ]
  },
  {
   "cell_type": "code",
   "execution_count": 37,
   "metadata": {
    "execution": {
     "iopub.execute_input": "2024-11-22T07:50:31.493043Z",
     "iopub.status.busy": "2024-11-22T07:50:31.492652Z",
     "iopub.status.idle": "2024-11-22T07:50:31.502378Z",
     "shell.execute_reply": "2024-11-22T07:50:31.501470Z",
     "shell.execute_reply.started": "2024-11-22T07:50:31.493011Z"
    },
    "trusted": true
   },
   "outputs": [
    {
     "data": {
      "text/plain": [
       "{'Recipe': 'Pan-Grilled Tilapia with Lemon and Red Onion\\nDelicious and easy-to-make recipe.\\n0.25 large lemon; 1 (6 ounce) tilapia fillet, patted dry; salt and ground black pepper to taste; 1 tablespoon extra-virgin olive oil; 1 teaspoon butter, divided; 0.25 large red onion, coarsely chopped; 1 teaspoon minced garlic; 1 tablespoon grated fresh Parmesan cheese\\nSqueeze lemon juice over tilapia; season lightly with salt and black pepper.; Heat olive oil in a nonstick skillet over medium heat. Melt 1/2 teaspoon butter in hot oil. Add chopped onion and minced garlic; cook and stir until onion begins to look translucent, about 5 minutes.; Reduce heat to medium-low. Push onion mixture to sides of the skillet. Melt remaining 1/2 teaspoon of butter in the skillet. Place tilapia in the center of the skillet and cover with onion mixture. Cover skillet and cook tilapia until it starts to turn golden, about 5 minutes. Push onion mixture to the sides again and flip tilapia. Cover and cook until second side is golden and flakes easily with a fork, about 5 minutes more.; Remove skillet from heat. Top tilapia with grated Parmesan cheese, cover, and let stand until cheese is melted, 2 to 3 minutes.',\n",
       " 'Generated Summary': 'This recipe for Pan-Grilled Tilapia with Lemon and Red Onion involves pan-frying a tilapia fillet with sautéed onions and garlic, topped with Parmesan cheese, and finished with a squeeze of lemon juice, using a combination of butter and olive oil for cooking.'}"
      ]
     },
     "execution_count": 37,
     "metadata": {},
     "output_type": "execute_result"
    }
   ],
   "source": [
    "train_ds[0]"
   ]
  },
  {
   "cell_type": "markdown",
   "metadata": {},
   "source": [
    "we are going to fine-tune a version of BART that has been trained on several news articles for text summarization,"
   ]
  },
  {
   "cell_type": "markdown",
   "metadata": {},
   "source": [
    "load BartTokenizer and BartForConditionalGeneration using the facebook/bart-large-xsum checkpoint."
   ]
  },
  {
   "cell_type": "code",
   "execution_count": 39,
   "metadata": {
    "execution": {
     "iopub.execute_input": "2024-11-22T07:50:34.431862Z",
     "iopub.status.busy": "2024-11-22T07:50:34.431438Z",
     "iopub.status.idle": "2024-11-22T07:50:44.585334Z",
     "shell.execute_reply": "2024-11-22T07:50:44.584427Z",
     "shell.execute_reply.started": "2024-11-22T07:50:34.431815Z"
    },
    "trusted": true
   },
   "outputs": [
    {
     "data": {
      "application/vnd.jupyter.widget-view+json": {
       "model_id": "a6f93d99490b4ecb83aec516444a2e98",
       "version_major": 2,
       "version_minor": 0
      },
      "text/plain": [
       "pytorch_model.bin:   0%|          | 0.00/1.63G [00:00<?, ?B/s]"
      ]
     },
     "metadata": {},
     "output_type": "display_data"
    },
    {
     "data": {
      "application/vnd.jupyter.widget-view+json": {
       "model_id": "d37eae034aaa4f028bfb59dd26beb151",
       "version_major": 2,
       "version_minor": 0
      },
      "text/plain": [
       "generation_config.json:   0%|          | 0.00/309 [00:00<?, ?B/s]"
      ]
     },
     "metadata": {},
     "output_type": "display_data"
    }
   ],
   "source": [
    "# Load model directly\n",
    "from transformers import AutoTokenizer, AutoModelForSeq2SeqLM\n",
    "\n",
    "tokenizer = AutoTokenizer.from_pretrained(\"google/pegasus-x-base\")\n",
    "model = AutoModelForSeq2SeqLM.from_pretrained(\"google/pegasus-x-base\")"
   ]
  },
  {
   "cell_type": "code",
   "execution_count": null,
   "metadata": {
    "execution": {
     "iopub.execute_input": "2024-11-22T07:50:34.431862Z",
     "iopub.status.busy": "2024-11-22T07:50:34.431438Z",
     "iopub.status.idle": "2024-11-22T07:50:44.585334Z",
     "shell.execute_reply": "2024-11-22T07:50:44.584427Z",
     "shell.execute_reply.started": "2024-11-22T07:50:34.431815Z"
    },
    "trusted": true
   },
   "outputs": [
    {
     "name": "stdout",
     "output_type": "stream",
     "text": [
      "BartForConditionalGeneration(\n",
      "  (model): BartModel(\n",
      "    (shared): BartScaledWordEmbedding(50264, 1024, padding_idx=1)\n",
      "    (encoder): BartEncoder(\n",
      "      (embed_tokens): BartScaledWordEmbedding(50264, 1024, padding_idx=1)\n",
      "      (embed_positions): BartLearnedPositionalEmbedding(1026, 1024)\n",
      "      (layers): ModuleList(\n",
      "        (0-11): 12 x BartEncoderLayer(\n",
      "          (self_attn): BartSdpaAttention(\n",
      "            (k_proj): Linear(in_features=1024, out_features=1024, bias=True)\n",
      "            (v_proj): Linear(in_features=1024, out_features=1024, bias=True)\n",
      "            (q_proj): Linear(in_features=1024, out_features=1024, bias=True)\n",
      "            (out_proj): Linear(in_features=1024, out_features=1024, bias=True)\n",
      "          )\n",
      "          (self_attn_layer_norm): LayerNorm((1024,), eps=1e-05, elementwise_affine=True)\n",
      "          (activation_fn): GELUActivation()\n",
      "          (fc1): Linear(in_features=1024, out_features=4096, bias=True)\n",
      "          (fc2): Linear(in_features=4096, out_features=1024, bias=True)\n",
      "          (final_layer_norm): LayerNorm((1024,), eps=1e-05, elementwise_affine=True)\n",
      "        )\n",
      "      )\n",
      "      (layernorm_embedding): LayerNorm((1024,), eps=1e-05, elementwise_affine=True)\n",
      "    )\n",
      "    (decoder): BartDecoder(\n",
      "      (embed_tokens): BartScaledWordEmbedding(50264, 1024, padding_idx=1)\n",
      "      (embed_positions): BartLearnedPositionalEmbedding(1026, 1024)\n",
      "      (layers): ModuleList(\n",
      "        (0-11): 12 x BartDecoderLayer(\n",
      "          (self_attn): BartSdpaAttention(\n",
      "            (k_proj): Linear(in_features=1024, out_features=1024, bias=True)\n",
      "            (v_proj): Linear(in_features=1024, out_features=1024, bias=True)\n",
      "            (q_proj): Linear(in_features=1024, out_features=1024, bias=True)\n",
      "            (out_proj): Linear(in_features=1024, out_features=1024, bias=True)\n",
      "          )\n",
      "          (activation_fn): GELUActivation()\n",
      "          (self_attn_layer_norm): LayerNorm((1024,), eps=1e-05, elementwise_affine=True)\n",
      "          (encoder_attn): BartSdpaAttention(\n",
      "            (k_proj): Linear(in_features=1024, out_features=1024, bias=True)\n",
      "            (v_proj): Linear(in_features=1024, out_features=1024, bias=True)\n",
      "            (q_proj): Linear(in_features=1024, out_features=1024, bias=True)\n",
      "            (out_proj): Linear(in_features=1024, out_features=1024, bias=True)\n",
      "          )\n",
      "          (encoder_attn_layer_norm): LayerNorm((1024,), eps=1e-05, elementwise_affine=True)\n",
      "          (fc1): Linear(in_features=1024, out_features=4096, bias=True)\n",
      "          (fc2): Linear(in_features=4096, out_features=1024, bias=True)\n",
      "          (final_layer_norm): LayerNorm((1024,), eps=1e-05, elementwise_affine=True)\n",
      "        )\n",
      "      )\n",
      "      (layernorm_embedding): LayerNorm((1024,), eps=1e-05, elementwise_affine=True)\n",
      "    )\n",
      "  )\n",
      "  (lm_head): Linear(in_features=1024, out_features=50264, bias=False)\n",
      ")\n"
     ]
    }
   ],
   "source": [
    "print(model)"
   ]
  },
  {
   "cell_type": "code",
   "execution_count": 46,
   "metadata": {
    "execution": {
     "iopub.execute_input": "2024-11-22T07:58:13.938250Z",
     "iopub.status.busy": "2024-11-22T07:58:13.937809Z",
     "iopub.status.idle": "2024-11-22T07:58:13.944175Z",
     "shell.execute_reply": "2024-11-22T07:58:13.943079Z",
     "shell.execute_reply.started": "2024-11-22T07:58:13.938216Z"
    },
    "trusted": true
   },
   "outputs": [],
   "source": [
    "def preprocess_function(examples):\n",
    "    inputs = [doc for doc in examples[\"Recipe\"]]\n",
    "    model_inputs = tokenizer(inputs, max_length=1024, truncation=True)\n",
    "\n",
    "    # Setup the tokenizer for targets\n",
    "    with tokenizer.as_target_tokenizer():\n",
    "        labels = tokenizer(examples[\"Generated Summary\"], max_length=128, truncation=True)\n",
    "\n",
    "    model_inputs[\"labels\"] = labels[\"input_ids\"]\n",
    "    return model_inputs"
   ]
  },
  {
   "cell_type": "code",
   "execution_count": 47,
   "metadata": {
    "execution": {
     "iopub.execute_input": "2024-11-22T07:58:14.784173Z",
     "iopub.status.busy": "2024-11-22T07:58:14.783780Z",
     "iopub.status.idle": "2024-11-22T07:58:39.124168Z",
     "shell.execute_reply": "2024-11-22T07:58:39.123129Z",
     "shell.execute_reply.started": "2024-11-22T07:58:14.784139Z"
    },
    "trusted": true
   },
   "outputs": [
    {
     "name": "stdout",
     "output_type": "stream",
     "text": [
      "['Recipe', 'Generated Summary']\n",
      "['Recipe', 'Generated Summary']\n",
      "['Recipe', 'Generated Summary']\n"
     ]
    },
    {
     "data": {
      "application/vnd.jupyter.widget-view+json": {
       "model_id": "a281bbef0a1f4a449cd00daac0b42f68",
       "version_major": 2,
       "version_minor": 0
      },
      "text/plain": [
       "  0%|          | 0/10 [00:00<?, ?ba/s]"
      ]
     },
     "metadata": {},
     "output_type": "display_data"
    },
    {
     "data": {
      "application/vnd.jupyter.widget-view+json": {
       "model_id": "22fdd9a1a8d142c3915200f5565b895b",
       "version_major": 2,
       "version_minor": 0
      },
      "text/plain": [
       "  0%|          | 0/2 [00:00<?, ?ba/s]"
      ]
     },
     "metadata": {},
     "output_type": "display_data"
    },
    {
     "data": {
      "application/vnd.jupyter.widget-view+json": {
       "model_id": "b6e71b3e182042ab95cfddf811a9ef7e",
       "version_major": 2,
       "version_minor": 0
      },
      "text/plain": [
       "  0%|          | 0/3 [00:00<?, ?ba/s]"
      ]
     },
     "metadata": {},
     "output_type": "display_data"
    },
    {
     "name": "stdout",
     "output_type": "stream",
     "text": [
      "\n",
      "\n",
      "\n",
      "\n",
      "Preprocessed Training Dataset:\n",
      "\n",
      "Dataset({\n",
      "    features: ['input_ids', 'attention_mask', 'labels'],\n",
      "    num_rows: 9800\n",
      "})\n",
      "\n",
      "\n",
      "\n",
      "Preprocessed Test Dataset:\n",
      "\n",
      "Dataset({\n",
      "    features: ['input_ids', 'attention_mask', 'labels'],\n",
      "    num_rows: 1400\n",
      "})\n",
      "\n",
      "\n",
      "\n",
      "Preprocessed Validation Dataset:\n",
      "\n",
      "Dataset({\n",
      "    features: ['input_ids', 'attention_mask', 'labels'],\n",
      "    num_rows: 2800\n",
      "})\n"
     ]
    }
   ],
   "source": [
    "# Step 1: Clean up column names (remove leading/trailing spaces)\n",
    "train_ds = train_ds.rename_columns({col: col.strip() for col in train_ds.column_names})\n",
    "test_ds = test_ds.rename_columns({col: col.strip() for col in test_ds.column_names})\n",
    "val_ds = val_ds.rename_columns({col: col.strip() for col in val_ds.column_names})\n",
    "\n",
    "# Step 2: Verify the cleaned column names\n",
    "print(train_ds.column_names)  # Check the column names in the train dataset\n",
    "print(test_ds.column_names)   # Check the column names in the test dataset\n",
    "print(val_ds.column_names)    # Check the column names in the validation dataset\n",
    "\n",
    "# Step 3: Apply preprocessing function and remove columns if they exist\n",
    "columns_to_remove = ['Recipe', 'Generated Summary']  # Now that columns are cleaned, use the correct names\n",
    "\n",
    "# Apply the preprocess function with column removal\n",
    "tokenized_train = train_ds.map(preprocess_function, batched=True, remove_columns=columns_to_remove)\n",
    "tokenized_test = test_ds.map(preprocess_function, batched=True, remove_columns=columns_to_remove)\n",
    "tokenized_val = val_ds.map(preprocess_function, batched=True, remove_columns=columns_to_remove)\n",
    "\n",
    "# Step 4: Print the results\n",
    "print('\\n' * 3)\n",
    "print('Preprocessed Training Dataset:\\n')\n",
    "print(tokenized_train)\n",
    "print('\\n' * 2)\n",
    "print('Preprocessed Test Dataset:\\n')\n",
    "print(tokenized_test)\n",
    "print('\\n' * 2)\n",
    "print('Preprocessed Validation Dataset:\\n')\n",
    "print(tokenized_val)\n"
   ]
  },
  {
   "cell_type": "code",
   "execution_count": 49,
   "metadata": {
    "execution": {
     "iopub.execute_input": "2024-11-22T08:02:24.882854Z",
     "iopub.status.busy": "2024-11-22T08:02:24.882275Z",
     "iopub.status.idle": "2024-11-22T08:02:24.889517Z",
     "shell.execute_reply": "2024-11-22T08:02:24.888639Z",
     "shell.execute_reply.started": "2024-11-22T08:02:24.882812Z"
    },
    "trusted": true
   },
   "outputs": [
    {
     "name": "stdout",
     "output_type": "stream",
     "text": [
      "input_ids:\n",
      "[0, 34263, 12, 15536, 12146, 20937, 1115, 493, 19, 22059, 8, 1211, 41638, 50118, 21502, 16003, 8, 1365, 12, 560, 12, 19746, 10324, 4, 50118, 288, 4, 1244, 739, 14099, 131, 112, 36, 401, 10671, 43, 19976, 1115, 493, 14242, 2716, 6, 181, 19747, 3841, 131, 6740, 8, 1255, 909, 10702, 7, 5840, 131, 112, 29387, 1823, 12, 705, 41943, 14983, 681, 131, 112, 21161, 9050, 6, 6408, 131, 321, 4, 1244, 739, 1275, 19543, 6, 38667, 352, 16639, 131, 112, 21161, 37570, 15783, 131, 112, 29387, 4435, 1070, 2310, 30471, 28656, 7134, 50118, 38378, 1942, 2158, 14099, 10580, 81, 19976, 1115, 493, 131, 191, 14998, 19, 6740, 8, 909, 10702, 10116, 7772, 14983, 681, 11, 10, 786, 19650, 35243, 81, 4761, 2859, 4, 30371, 112, 73, 176, 21161, 9050, 11, 2131, 681, 4, 4287, 16639, 19543, 8, 37570, 15783, 131, 7142, 8, 14351, 454, 19543, 3772, 7, 356, 42026, 6, 59, 195, 728, 10116, 38053, 2859, 7, 4761, 12, 5481, 4, 23726, 19543, 12652, 7, 2380, 9, 5, 35243, 4, 30371, 2405, 112, 73, 176, 21161, 9, 9050, 11, 5, 35243, 4, 6067, 19976, 1115, 493, 11, 5, 1312, 9, 5, 35243, 8, 1719, 19, 19543, 12652, 4, 18652, 35243, 8, 7142, 19976, 1115, 493, 454, 24, 2012, 7, 1004, 9030, 6, 59, 195, 728, 4, 23726, 19543, 12652, 7, 5, 2380, 456, 8, 11113, 19976, 1115, 493, 4, 18652, 8, 7142, 454, 200, 526, 16, 9030, 8, 37517, 2773, 19, 10, 20935, 6, 59, 195, 728, 55, 10116, 27336, 35243, 31, 2859, 4, 3107, 19976, 1115, 493, 19, 4435, 1070, 30471, 28656, 7134, 6, 1719, 6, 8, 905, 1413, 454, 7134, 16, 24136, 6, 132, 7, 155, 728, 4, 2]\n",
      "\n",
      "\n",
      "attention_mask:\n",
      "[1, 1, 1, 1, 1, 1, 1, 1, 1, 1, 1, 1, 1, 1, 1, 1, 1, 1, 1, 1, 1, 1, 1, 1, 1, 1, 1, 1, 1, 1, 1, 1, 1, 1, 1, 1, 1, 1, 1, 1, 1, 1, 1, 1, 1, 1, 1, 1, 1, 1, 1, 1, 1, 1, 1, 1, 1, 1, 1, 1, 1, 1, 1, 1, 1, 1, 1, 1, 1, 1, 1, 1, 1, 1, 1, 1, 1, 1, 1, 1, 1, 1, 1, 1, 1, 1, 1, 1, 1, 1, 1, 1, 1, 1, 1, 1, 1, 1, 1, 1, 1, 1, 1, 1, 1, 1, 1, 1, 1, 1, 1, 1, 1, 1, 1, 1, 1, 1, 1, 1, 1, 1, 1, 1, 1, 1, 1, 1, 1, 1, 1, 1, 1, 1, 1, 1, 1, 1, 1, 1, 1, 1, 1, 1, 1, 1, 1, 1, 1, 1, 1, 1, 1, 1, 1, 1, 1, 1, 1, 1, 1, 1, 1, 1, 1, 1, 1, 1, 1, 1, 1, 1, 1, 1, 1, 1, 1, 1, 1, 1, 1, 1, 1, 1, 1, 1, 1, 1, 1, 1, 1, 1, 1, 1, 1, 1, 1, 1, 1, 1, 1, 1, 1, 1, 1, 1, 1, 1, 1, 1, 1, 1, 1, 1, 1, 1, 1, 1, 1, 1, 1, 1, 1, 1, 1, 1, 1, 1, 1, 1, 1, 1, 1, 1, 1, 1, 1, 1, 1, 1, 1, 1, 1, 1, 1, 1, 1, 1, 1, 1, 1, 1, 1, 1, 1, 1, 1, 1, 1, 1, 1, 1, 1, 1, 1, 1, 1, 1, 1, 1, 1, 1, 1, 1, 1, 1, 1, 1, 1, 1, 1, 1]\n",
      "\n",
      "\n",
      "sample:\n",
      "[0, 713, 10324, 13, 5302, 12, 15536, 12146, 20937, 1115, 493, 19, 22059, 8, 1211, 41638, 6890, 5730, 12, 506, 15975, 10, 19976, 1115, 493, 14242, 2716, 19, 2241, 1182, 1140, 196, 21568, 8, 15783, 6, 8319, 19, 30471, 28656, 7134, 6, 8, 1550, 19, 10, 15020, 9, 14099, 10580, 6, 634, 10, 4069, 9, 9050, 8, 14983, 681, 13, 6836, 4, 2]\n",
      "\n",
      "\n"
     ]
    }
   ],
   "source": [
    "# Selecting a sample from the dataset\n",
    "sample = tokenized_train[0]\n",
    "\n",
    "# Printing its features\n",
    "print(\"input_ids:\")\n",
    "print(sample['input_ids'])\n",
    "print(\"\\n\")\n",
    "print(\"attention_mask:\")\n",
    "print(sample['attention_mask'])\n",
    "print(\"\\n\")\n",
    "print(\"sample:\")\n",
    "print(sample['labels'])\n",
    "print(\"\\n\")\n",
    "#diffrent word assign diffrent id same word same id assign"
   ]
  },
  {
   "cell_type": "code",
   "execution_count": 50,
   "metadata": {
    "execution": {
     "iopub.execute_input": "2024-11-22T08:03:14.021231Z",
     "iopub.status.busy": "2024-11-22T08:03:14.020831Z",
     "iopub.status.idle": "2024-11-22T08:03:14.025889Z",
     "shell.execute_reply": "2024-11-22T08:03:14.024791Z",
     "shell.execute_reply.started": "2024-11-22T08:03:14.021189Z"
    },
    "trusted": true
   },
   "outputs": [],
   "source": [
    "# Instantiating Data Collator for preparing batch data for same lenght\n",
    "data_collator = DataCollatorForSeq2Seq(tokenizer=tokenizer, model=model)"
   ]
  },
  {
   "cell_type": "code",
   "execution_count": 51,
   "metadata": {
    "execution": {
     "iopub.execute_input": "2024-11-22T08:03:26.566934Z",
     "iopub.status.busy": "2024-11-22T08:03:26.566519Z",
     "iopub.status.idle": "2024-11-22T08:03:26.784231Z",
     "shell.execute_reply": "2024-11-22T08:03:26.783444Z",
     "shell.execute_reply.started": "2024-11-22T08:03:26.566901Z"
    },
    "trusted": true
   },
   "outputs": [],
   "source": [
    "metric = load_metric('rouge') # Loading ROUGE Score"
   ]
  },
  {
   "cell_type": "code",
   "execution_count": null,
   "metadata": {
    "trusted": true
   },
   "outputs": [],
   "source": []
  },
  {
   "cell_type": "code",
   "execution_count": 52,
   "metadata": {
    "execution": {
     "iopub.execute_input": "2024-11-22T08:03:45.472388Z",
     "iopub.status.busy": "2024-11-22T08:03:45.471599Z",
     "iopub.status.idle": "2024-11-22T08:03:45.479574Z",
     "shell.execute_reply": "2024-11-22T08:03:45.478393Z",
     "shell.execute_reply.started": "2024-11-22T08:03:45.472350Z"
    },
    "trusted": true
   },
   "outputs": [],
   "source": [
    "def compute_metrics(eval_pred):\n",
    "    predictions, labels = eval_pred# Obtaining predictions and true labels\n",
    "    \n",
    "    # Decoding predictions\n",
    "    decoded_preds = tokenizer.batch_decode(predictions, skip_special_tokens=True)\n",
    "    \n",
    "    # Obtaining the true labels tokens, while eliminating any possible masked token (i.e., label = -100)\n",
    "    labels = np.where(labels != -100, labels, tokenizer.pad_token_id)\n",
    "    decoded_labels = tokenizer.batch_decode(labels, skip_special_tokens=True)\n",
    "\n",
    "    # Rouge expects a newline after each sentence\n",
    "    decoded_preds = [\"\\n\".join(nltk.sent_tokenize(pred.strip())) for pred in decoded_preds]\n",
    "    decoded_labels = [\"\\n\".join(nltk.sent_tokenize(label.strip())) for label in decoded_labels]\n",
    "    \n",
    "    \n",
    "    # Computing rouge score\n",
    "    result = metric.compute(predictions=decoded_preds, references=decoded_labels, use_stemmer=True)\n",
    "    result = {key: value.mid.fmeasure * 100 for key, value in result.items()} # Extracting some results\n",
    "\n",
    "    # Add mean-generated length\n",
    "    prediction_lens = [np.count_nonzero(pred != tokenizer.pad_token_id) for pred in predictions]\n",
    "    result[\"gen_len\"] = np.mean(prediction_lens)\n",
    "\n",
    "    return {k: round(v, 4) for k, v in result.items()}"
   ]
  },
  {
   "cell_type": "code",
   "execution_count": null,
   "metadata": {
    "execution": {
     "iopub.status.busy": "2024-11-22T07:50:45.098026Z",
     "iopub.status.idle": "2024-11-22T07:50:45.098376Z",
     "shell.execute_reply": "2024-11-22T07:50:45.098217Z",
     "shell.execute_reply.started": "2024-11-22T07:50:45.098200Z"
    },
    "trusted": true
   },
   "outputs": [],
   "source": [
    "# Instantiating Data Collator\n",
    "data_collator = DataCollatorForSeq2Seq(tokenizer=tokenizer, model=model)"
   ]
  },
  {
   "cell_type": "code",
   "execution_count": 63,
   "metadata": {
    "execution": {
     "iopub.execute_input": "2024-11-22T08:18:22.217140Z",
     "iopub.status.busy": "2024-11-22T08:18:22.216362Z",
     "iopub.status.idle": "2024-11-22T08:18:22.249727Z",
     "shell.execute_reply": "2024-11-22T08:18:22.248854Z",
     "shell.execute_reply.started": "2024-11-22T08:18:22.217104Z"
    },
    "trusted": true
   },
   "outputs": [],
   "source": [
    "from transformers import Seq2SeqTrainingArguments\n",
    "\n",
    "# Parameters for training\n",
    "seed = 42  # Define your seed value here\n",
    "\n",
    "training_args = Seq2SeqTrainingArguments(\n",
    "    output_dir='bart_samsum',             # Directory where model predictions and checkpoints will be saved\n",
    "    evaluation_strategy=\"epoch\",          # Evaluate at the end of every epoch\n",
    "    save_strategy='epoch',                # Save a checkpoint at the end of every epoch\n",
    "    load_best_model_at_end=True,          # Load the best model (according to `metric_for_best_model`) at the end of training\n",
    "    metric_for_best_model='eval_loss',    # Metric to evaluate the best model\n",
    "    seed=seed,                            # Random seed for reproducibility\n",
    "    learning_rate=2e-5,                   # Learning rate\n",
    "    per_device_train_batch_size=4,        # Batch size per device during training\n",
    "    per_device_eval_batch_size=4,         # Batch size per device during evaluation\n",
    "    gradient_accumulation_steps=2,        # Number of updates steps to accumulate before performing a backward/update pass.\n",
    "    weight_decay=0.01,                    # Weight decay if we apply some.\n",
    "    save_total_limit=2,                   # Maximum number of checkpoints to keep\n",
    "    num_train_epochs=5,                   # Number of training epochs\n",
    "    predict_with_generate=True,           # Use model.generate() for prediction\n",
    "    fp16=True,                            # Use mixed precision\n",
    "    report_to=\"none\"                      # Disable logging to any integrations\n",
    ")\n"
   ]
  },
  {
   "cell_type": "code",
   "execution_count": 64,
   "metadata": {
    "execution": {
     "iopub.execute_input": "2024-11-22T08:18:22.893190Z",
     "iopub.status.busy": "2024-11-22T08:18:22.892276Z",
     "iopub.status.idle": "2024-11-22T08:18:22.907597Z",
     "shell.execute_reply": "2024-11-22T08:18:22.906318Z",
     "shell.execute_reply.started": "2024-11-22T08:18:22.893153Z"
    },
    "trusted": true
   },
   "outputs": [],
   "source": [
    "from transformers import Seq2SeqTrainer, DataCollatorForSeq2Seq\n",
    "\n",
    "# Assuming 'model' and 'tokenizer' are already initialized and configured\n",
    "data_collator = DataCollatorForSeq2Seq(tokenizer, model=model)\n",
    "\n",
    "trainer = Seq2SeqTrainer(\n",
    "    model=model,\n",
    "    args=training_args,\n",
    "    train_dataset=tokenized_train,\n",
    "    eval_dataset=tokenized_test,\n",
    "    data_collator=data_collator,\n",
    "    tokenizer=tokenizer,\n",
    "    compute_metrics=compute_metrics,\n",
    ")\n"
   ]
  },
  {
   "cell_type": "code",
   "execution_count": 65,
   "metadata": {
    "execution": {
     "iopub.execute_input": "2024-11-22T08:18:23.766763Z",
     "iopub.status.busy": "2024-11-22T08:18:23.766324Z",
     "iopub.status.idle": "2024-11-22T09:01:10.349577Z",
     "shell.execute_reply": "2024-11-22T09:01:10.348517Z",
     "shell.execute_reply.started": "2024-11-22T08:18:23.766729Z"
    },
    "trusted": true
   },
   "outputs": [
    {
     "data": {
      "text/html": [
       "\n",
       "    <div>\n",
       "      \n",
       "      <progress value='6125' max='6125' style='width:300px; height:20px; vertical-align: middle;'></progress>\n",
       "      [6125/6125 42:45, Epoch 5/5]\n",
       "    </div>\n",
       "    <table border=\"1\" class=\"dataframe\">\n",
       "  <thead>\n",
       " <tr style=\"text-align: left;\">\n",
       "      <th>Epoch</th>\n",
       "      <th>Training Loss</th>\n",
       "      <th>Validation Loss</th>\n",
       "      <th>Rouge1</th>\n",
       "      <th>Rouge2</th>\n",
       "      <th>Rougel</th>\n",
       "      <th>Rougelsum</th>\n",
       "      <th>Gen Len</th>\n",
       "    </tr>\n",
       "  </thead>\n",
       "  <tbody>\n",
       "    <tr>\n",
       "      <td>1</td>\n",
       "      <td>0.585800</td>\n",
       "      <td>0.473311</td>\n",
       "      <td>28.953100</td>\n",
       "      <td>27.683000</td>\n",
       "      <td>28.916300</td>\n",
       "      <td>28.911000</td>\n",
       "      <td>20.000000</td>\n",
       "    </tr>\n",
       "    <tr>\n",
       "      <td>2</td>\n",
       "      <td>0.484200</td>\n",
       "      <td>0.422108</td>\n",
       "      <td>28.953100</td>\n",
       "      <td>27.683000</td>\n",
       "      <td>28.916300</td>\n",
       "      <td>28.911000</td>\n",
       "      <td>20.000000</td>\n",
       "    </tr>\n",
       "    <tr>\n",
       "      <td>3</td>\n",
       "      <td>0.411500</td>\n",
       "      <td>0.398261</td>\n",
       "      <td>29.051900</td>\n",
       "      <td>27.758400</td>\n",
       "      <td>29.017000</td>\n",
       "      <td>29.011800</td>\n",
       "      <td>20.000000</td>\n",
       "    </tr>\n",
       "    <tr>\n",
       "      <td>4</td>\n",
       "      <td>0.371500</td>\n",
       "      <td>0.388832</td>\n",
       "      <td>28.953100</td>\n",
       "      <td>27.683000</td>\n",
       "      <td>28.916300</td>\n",
       "      <td>28.911000</td>\n",
       "      <td>20.000000</td>\n",
       "    </tr>\n",
       "    <tr>\n",
       "      <td>5</td>\n",
       "      <td>0.351300</td>\n",
       "      <td>0.383732</td>\n",
       "      <td>28.953100</td>\n",
       "      <td>27.683000</td>\n",
       "      <td>28.916300</td>\n",
       "      <td>28.911000</td>\n",
       "      <td>20.000000</td>\n",
       "    </tr>\n",
       "  </tbody>\n",
       "</table><p>"
      ],
      "text/plain": [
       "<IPython.core.display.HTML object>"
      ]
     },
     "metadata": {},
     "output_type": "display_data"
    },
    {
     "name": "stderr",
     "output_type": "stream",
     "text": [
      "There were missing keys in the checkpoint model loaded: ['model.encoder.embed_tokens.weight', 'model.decoder.embed_tokens.weight', 'lm_head.weight'].\n"
     ]
    },
    {
     "data": {
      "text/plain": [
       "TrainOutput(global_step=6125, training_loss=0.4521370961714764, metrics={'train_runtime': 2566.0472, 'train_samples_per_second': 19.096, 'train_steps_per_second': 2.387, 'total_flos': 1.053151339548672e+16, 'train_loss': 0.4521370961714764, 'epoch': 5.0})"
      ]
     },
     "execution_count": 65,
     "metadata": {},
     "output_type": "execute_result"
    }
   ],
   "source": [
    "trainer.train()"
   ]
  },
  {
   "cell_type": "code",
   "execution_count": 66,
   "metadata": {
    "execution": {
     "iopub.execute_input": "2024-11-22T09:01:10.351535Z",
     "iopub.status.busy": "2024-11-22T09:01:10.351217Z",
     "iopub.status.idle": "2024-11-22T09:05:51.927655Z",
     "shell.execute_reply": "2024-11-22T09:05:51.926637Z",
     "shell.execute_reply.started": "2024-11-22T09:01:10.351506Z"
    },
    "trusted": true
   },
   "outputs": [
    {
     "data": {
      "text/html": [
       "\n",
       "    <div>\n",
       "      \n",
       "      <progress value='700' max='700' style='width:300px; height:20px; vertical-align: middle;'></progress>\n",
       "      [700/700 04:29]\n",
       "    </div>\n",
       "    "
      ],
      "text/plain": [
       "<IPython.core.display.HTML object>"
      ]
     },
     "metadata": {},
     "output_type": "display_data"
    },
    {
     "name": "stdout",
     "output_type": "stream",
     "text": [
      "{'eval_loss': 0.36465972661972046, 'eval_rouge1': 30.6303, 'eval_rouge2': 29.25, 'eval_rougeL': 30.6092, 'eval_rougeLsum': 30.5462, 'eval_gen_len': 20.0, 'eval_runtime': 281.5677, 'eval_samples_per_second': 9.944, 'eval_steps_per_second': 2.486, 'epoch': 5.0}\n"
     ]
    }
   ],
   "source": [
    "# Evaluating model performance on the tokenized validation dataset\n",
    "validation = trainer.evaluate(eval_dataset = tokenized_val)\n",
    "print(validation) # Printing results"
   ]
  },
  {
   "cell_type": "code",
   "execution_count": 67,
   "metadata": {
    "execution": {
     "iopub.execute_input": "2024-11-22T09:05:51.929515Z",
     "iopub.status.busy": "2024-11-22T09:05:51.929068Z",
     "iopub.status.idle": "2024-11-22T09:05:52.956832Z",
     "shell.execute_reply": "2024-11-22T09:05:52.955871Z",
     "shell.execute_reply.started": "2024-11-22T09:05:51.929468Z"
    },
    "trusted": true
   },
   "outputs": [
    {
     "data": {
      "text/plain": [
       "('Text_recipes/tokenizer_config.json',\n",
       " 'Text_recipes/special_tokens_map.json',\n",
       " 'Text_recipes/vocab.json',\n",
       " 'Text_recipes/merges.txt',\n",
       " 'Text_recipes/added_tokens.json')"
      ]
     },
     "execution_count": 67,
     "metadata": {},
     "output_type": "execute_result"
    }
   ],
   "source": [
    "# Saving model to a custom directory\n",
    "directory = \"Text_recipes\"\n",
    "trainer.save_model(directory)\n",
    "\n",
    "# Saving model tokenizer\n",
    "tokenizer.save_pretrained(directory)"
   ]
  }
 ],
 "metadata": {
  "kaggle": {
   "accelerator": "gpu",
   "dataSources": [
    {
     "datasetId": 6141146,
     "sourceId": 9980221,
     "sourceType": "datasetVersion"
    }
   ],
   "dockerImageVersionId": 30787,
   "isGpuEnabled": true,
   "isInternetEnabled": true,
   "language": "python",
   "sourceType": "notebook"
  },
  "kernelspec": {
   "display_name": "Python 3",
   "language": "python",
   "name": "python3"
  },
  "language_info": {
   "codemirror_mode": {
    "name": "ipython",
    "version": 3
   },
   "file_extension": ".py",
   "mimetype": "text/x-python",
   "name": "python",
   "nbconvert_exporter": "python",
   "pygments_lexer": "ipython3",
   "version": "3.10.14"
  }
 },
 "nbformat": 4,
 "nbformat_minor": 4
}
